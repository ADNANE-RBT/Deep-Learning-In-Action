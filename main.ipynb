{
  "cells": [
    {
      "cell_type": "code",
      "execution_count": 5,
      "metadata": {
        "collapsed": true,
        "id": "GNEPfSzDKTFQ",
        "colab": {
          "base_uri": "https://localhost:8080/"
        },
        "outputId": "e94c3f96-2c54-4cc1-f26c-6866872d99b4"
      },
      "outputs": [
        {
          "output_type": "stream",
          "name": "stdout",
          "text": [
            "Requirement already satisfied: lime in /usr/local/lib/python3.10/dist-packages (0.2.0.1)\n",
            "Requirement already satisfied: shap in /usr/local/lib/python3.10/dist-packages (0.46.0)\n",
            "Requirement already satisfied: tensorflow in /usr/local/lib/python3.10/dist-packages (2.17.0)\n",
            "Requirement already satisfied: matplotlib in /usr/local/lib/python3.10/dist-packages (from lime) (3.7.1)\n",
            "Requirement already satisfied: numpy in /usr/local/lib/python3.10/dist-packages (from lime) (1.26.4)\n",
            "Requirement already satisfied: scipy in /usr/local/lib/python3.10/dist-packages (from lime) (1.13.1)\n",
            "Requirement already satisfied: tqdm in /usr/local/lib/python3.10/dist-packages (from lime) (4.66.5)\n",
            "Requirement already satisfied: scikit-learn>=0.18 in /usr/local/lib/python3.10/dist-packages (from lime) (1.5.2)\n",
            "Requirement already satisfied: scikit-image>=0.12 in /usr/local/lib/python3.10/dist-packages (from lime) (0.24.0)\n",
            "Requirement already satisfied: pandas in /usr/local/lib/python3.10/dist-packages (from shap) (2.2.2)\n",
            "Requirement already satisfied: packaging>20.9 in /usr/local/lib/python3.10/dist-packages (from shap) (24.1)\n",
            "Requirement already satisfied: slicer==0.0.8 in /usr/local/lib/python3.10/dist-packages (from shap) (0.0.8)\n",
            "Requirement already satisfied: numba in /usr/local/lib/python3.10/dist-packages (from shap) (0.60.0)\n",
            "Requirement already satisfied: cloudpickle in /usr/local/lib/python3.10/dist-packages (from shap) (3.1.0)\n",
            "Requirement already satisfied: absl-py>=1.0.0 in /usr/local/lib/python3.10/dist-packages (from tensorflow) (1.4.0)\n",
            "Requirement already satisfied: astunparse>=1.6.0 in /usr/local/lib/python3.10/dist-packages (from tensorflow) (1.6.3)\n",
            "Requirement already satisfied: flatbuffers>=24.3.25 in /usr/local/lib/python3.10/dist-packages (from tensorflow) (24.3.25)\n",
            "Requirement already satisfied: gast!=0.5.0,!=0.5.1,!=0.5.2,>=0.2.1 in /usr/local/lib/python3.10/dist-packages (from tensorflow) (0.6.0)\n",
            "Requirement already satisfied: google-pasta>=0.1.1 in /usr/local/lib/python3.10/dist-packages (from tensorflow) (0.2.0)\n",
            "Requirement already satisfied: h5py>=3.10.0 in /usr/local/lib/python3.10/dist-packages (from tensorflow) (3.11.0)\n",
            "Requirement already satisfied: libclang>=13.0.0 in /usr/local/lib/python3.10/dist-packages (from tensorflow) (18.1.1)\n",
            "Requirement already satisfied: ml-dtypes<0.5.0,>=0.3.1 in /usr/local/lib/python3.10/dist-packages (from tensorflow) (0.4.1)\n",
            "Requirement already satisfied: opt-einsum>=2.3.2 in /usr/local/lib/python3.10/dist-packages (from tensorflow) (3.4.0)\n",
            "Requirement already satisfied: protobuf!=4.21.0,!=4.21.1,!=4.21.2,!=4.21.3,!=4.21.4,!=4.21.5,<5.0.0dev,>=3.20.3 in /usr/local/lib/python3.10/dist-packages (from tensorflow) (3.20.3)\n",
            "Requirement already satisfied: requests<3,>=2.21.0 in /usr/local/lib/python3.10/dist-packages (from tensorflow) (2.32.3)\n",
            "Requirement already satisfied: setuptools in /usr/local/lib/python3.10/dist-packages (from tensorflow) (75.1.0)\n",
            "Requirement already satisfied: six>=1.12.0 in /usr/local/lib/python3.10/dist-packages (from tensorflow) (1.16.0)\n",
            "Requirement already satisfied: termcolor>=1.1.0 in /usr/local/lib/python3.10/dist-packages (from tensorflow) (2.5.0)\n",
            "Requirement already satisfied: typing-extensions>=3.6.6 in /usr/local/lib/python3.10/dist-packages (from tensorflow) (4.12.2)\n",
            "Requirement already satisfied: wrapt>=1.11.0 in /usr/local/lib/python3.10/dist-packages (from tensorflow) (1.16.0)\n",
            "Requirement already satisfied: grpcio<2.0,>=1.24.3 in /usr/local/lib/python3.10/dist-packages (from tensorflow) (1.64.1)\n",
            "Requirement already satisfied: tensorboard<2.18,>=2.17 in /usr/local/lib/python3.10/dist-packages (from tensorflow) (2.17.0)\n",
            "Requirement already satisfied: keras>=3.2.0 in /usr/local/lib/python3.10/dist-packages (from tensorflow) (3.4.1)\n",
            "Requirement already satisfied: tensorflow-io-gcs-filesystem>=0.23.1 in /usr/local/lib/python3.10/dist-packages (from tensorflow) (0.37.1)\n",
            "Requirement already satisfied: wheel<1.0,>=0.23.0 in /usr/local/lib/python3.10/dist-packages (from astunparse>=1.6.0->tensorflow) (0.44.0)\n",
            "Requirement already satisfied: rich in /usr/local/lib/python3.10/dist-packages (from keras>=3.2.0->tensorflow) (13.9.2)\n",
            "Requirement already satisfied: namex in /usr/local/lib/python3.10/dist-packages (from keras>=3.2.0->tensorflow) (0.0.8)\n",
            "Requirement already satisfied: optree in /usr/local/lib/python3.10/dist-packages (from keras>=3.2.0->tensorflow) (0.13.0)\n",
            "Requirement already satisfied: charset-normalizer<4,>=2 in /usr/local/lib/python3.10/dist-packages (from requests<3,>=2.21.0->tensorflow) (3.4.0)\n",
            "Requirement already satisfied: idna<4,>=2.5 in /usr/local/lib/python3.10/dist-packages (from requests<3,>=2.21.0->tensorflow) (3.10)\n",
            "Requirement already satisfied: urllib3<3,>=1.21.1 in /usr/local/lib/python3.10/dist-packages (from requests<3,>=2.21.0->tensorflow) (2.2.3)\n",
            "Requirement already satisfied: certifi>=2017.4.17 in /usr/local/lib/python3.10/dist-packages (from requests<3,>=2.21.0->tensorflow) (2024.8.30)\n",
            "Requirement already satisfied: networkx>=2.8 in /usr/local/lib/python3.10/dist-packages (from scikit-image>=0.12->lime) (3.4.1)\n",
            "Requirement already satisfied: pillow>=9.1 in /usr/local/lib/python3.10/dist-packages (from scikit-image>=0.12->lime) (10.4.0)\n",
            "Requirement already satisfied: imageio>=2.33 in /usr/local/lib/python3.10/dist-packages (from scikit-image>=0.12->lime) (2.35.1)\n",
            "Requirement already satisfied: tifffile>=2022.8.12 in /usr/local/lib/python3.10/dist-packages (from scikit-image>=0.12->lime) (2024.9.20)\n",
            "Requirement already satisfied: lazy-loader>=0.4 in /usr/local/lib/python3.10/dist-packages (from scikit-image>=0.12->lime) (0.4)\n",
            "Requirement already satisfied: joblib>=1.2.0 in /usr/local/lib/python3.10/dist-packages (from scikit-learn>=0.18->lime) (1.4.2)\n",
            "Requirement already satisfied: threadpoolctl>=3.1.0 in /usr/local/lib/python3.10/dist-packages (from scikit-learn>=0.18->lime) (3.5.0)\n",
            "Requirement already satisfied: markdown>=2.6.8 in /usr/local/lib/python3.10/dist-packages (from tensorboard<2.18,>=2.17->tensorflow) (3.7)\n",
            "Requirement already satisfied: tensorboard-data-server<0.8.0,>=0.7.0 in /usr/local/lib/python3.10/dist-packages (from tensorboard<2.18,>=2.17->tensorflow) (0.7.2)\n",
            "Requirement already satisfied: werkzeug>=1.0.1 in /usr/local/lib/python3.10/dist-packages (from tensorboard<2.18,>=2.17->tensorflow) (3.0.4)\n",
            "Requirement already satisfied: contourpy>=1.0.1 in /usr/local/lib/python3.10/dist-packages (from matplotlib->lime) (1.3.0)\n",
            "Requirement already satisfied: cycler>=0.10 in /usr/local/lib/python3.10/dist-packages (from matplotlib->lime) (0.12.1)\n",
            "Requirement already satisfied: fonttools>=4.22.0 in /usr/local/lib/python3.10/dist-packages (from matplotlib->lime) (4.54.1)\n",
            "Requirement already satisfied: kiwisolver>=1.0.1 in /usr/local/lib/python3.10/dist-packages (from matplotlib->lime) (1.4.7)\n",
            "Requirement already satisfied: pyparsing>=2.3.1 in /usr/local/lib/python3.10/dist-packages (from matplotlib->lime) (3.2.0)\n",
            "Requirement already satisfied: python-dateutil>=2.7 in /usr/local/lib/python3.10/dist-packages (from matplotlib->lime) (2.8.2)\n",
            "Requirement already satisfied: llvmlite<0.44,>=0.43.0dev0 in /usr/local/lib/python3.10/dist-packages (from numba->shap) (0.43.0)\n",
            "Requirement already satisfied: pytz>=2020.1 in /usr/local/lib/python3.10/dist-packages (from pandas->shap) (2024.2)\n",
            "Requirement already satisfied: tzdata>=2022.7 in /usr/local/lib/python3.10/dist-packages (from pandas->shap) (2024.2)\n",
            "Requirement already satisfied: MarkupSafe>=2.1.1 in /usr/local/lib/python3.10/dist-packages (from werkzeug>=1.0.1->tensorboard<2.18,>=2.17->tensorflow) (3.0.1)\n",
            "Requirement already satisfied: markdown-it-py>=2.2.0 in /usr/local/lib/python3.10/dist-packages (from rich->keras>=3.2.0->tensorflow) (3.0.0)\n",
            "Requirement already satisfied: pygments<3.0.0,>=2.13.0 in /usr/local/lib/python3.10/dist-packages (from rich->keras>=3.2.0->tensorflow) (2.18.0)\n",
            "Requirement already satisfied: mdurl~=0.1 in /usr/local/lib/python3.10/dist-packages (from markdown-it-py>=2.2.0->rich->keras>=3.2.0->tensorflow) (0.1.2)\n"
          ]
        }
      ],
      "source": [
        "!pip install lime shap tensorflow"
      ]
    },
    {
      "cell_type": "markdown",
      "metadata": {
        "id": "zxfl-lXTDipp"
      },
      "source": [
        "## Introduction"
      ]
    },
    {
      "cell_type": "code",
      "execution_count": 6,
      "metadata": {
        "id": "X25kikq0JJ4q"
      },
      "outputs": [],
      "source": [
        "import pandas as pd\n",
        "from sklearn.preprocessing import StandardScaler\n",
        "from sklearn.model_selection import train_test_split\n",
        "from tensorflow.keras.models import Sequential\n",
        "from tensorflow.keras.layers import Dense, Input\n",
        "from keras.optimizers import Adam, SGD, RMSprop, Adagrad\n",
        "from keras.losses import MeanSquaredError, MeanAbsoluteError, Huber\n",
        "from sklearn.metrics import r2_score, mean_squared_error, mean_absolute_error\n",
        "from sklearn.metrics import accuracy_score, precision_score, recall_score, f1_score\n",
        "from tensorflow.keras.utils import to_categorical\n",
        "from sklearn.preprocessing import LabelEncoder, OneHotEncoder\n",
        "from sklearn.compose import ColumnTransformer\n",
        "import numpy as np\n",
        "import matplotlib.pyplot as plt\n",
        "\n",
        "import lime\n",
        "import lime.lime_tabular\n",
        "import shap"
      ]
    },
    {
      "cell_type": "code",
      "execution_count": 7,
      "metadata": {
        "id": "o4sIJKVoJJ4t"
      },
      "outputs": [],
      "source": [
        "df = pd.read_csv('/content/machine_performance_random_1000_dataset_V2.csv')"
      ]
    },
    {
      "cell_type": "code",
      "execution_count": 8,
      "metadata": {
        "colab": {
          "base_uri": "https://localhost:8080/",
          "height": 241
        },
        "id": "LUYtTqJPJJ4u",
        "outputId": "e1e65c1d-e9bd-4738-ca6f-8d858f6f4450"
      },
      "outputs": [
        {
          "output_type": "execute_result",
          "data": {
            "text/plain": [
              "  Machine  Temps ouverture (heures)  Arret planifie (heures)  \\\n",
              "0      M1                        15                 1.156961   \n",
              "1      M2                        15                 1.211035   \n",
              "2      M3                        15                 2.136547   \n",
              "3      M4                        16                 1.359729   \n",
              "4      M1                        16                 1.540807   \n",
              "\n",
              "   Duree de panne (heures)  Ecart de cadence (heures)  Nombre de piece bonne  \\\n",
              "0                 1.099763                   0.662674                    757   \n",
              "1                 0.855025                   0.317592                    695   \n",
              "2                 1.071865                   0.429608                    872   \n",
              "3                 1.190878                   0.409812                    653   \n",
              "4                 0.630224                   0.180200                    648   \n",
              "\n",
              "   Cadence de production (piees/minute)  \n",
              "0                                    60  \n",
              "1                                    51  \n",
              "2                                    64  \n",
              "3                                    53  \n",
              "4                                    51  "
            ],
            "text/html": [
              "\n",
              "  <div id=\"df-c58ca5f6-ffb8-4492-b36a-5173bdd4fa8f\" class=\"colab-df-container\">\n",
              "    <div>\n",
              "<style scoped>\n",
              "    .dataframe tbody tr th:only-of-type {\n",
              "        vertical-align: middle;\n",
              "    }\n",
              "\n",
              "    .dataframe tbody tr th {\n",
              "        vertical-align: top;\n",
              "    }\n",
              "\n",
              "    .dataframe thead th {\n",
              "        text-align: right;\n",
              "    }\n",
              "</style>\n",
              "<table border=\"1\" class=\"dataframe\">\n",
              "  <thead>\n",
              "    <tr style=\"text-align: right;\">\n",
              "      <th></th>\n",
              "      <th>Machine</th>\n",
              "      <th>Temps ouverture (heures)</th>\n",
              "      <th>Arret planifie (heures)</th>\n",
              "      <th>Duree de panne (heures)</th>\n",
              "      <th>Ecart de cadence (heures)</th>\n",
              "      <th>Nombre de piece bonne</th>\n",
              "      <th>Cadence de production (piees/minute)</th>\n",
              "    </tr>\n",
              "  </thead>\n",
              "  <tbody>\n",
              "    <tr>\n",
              "      <th>0</th>\n",
              "      <td>M1</td>\n",
              "      <td>15</td>\n",
              "      <td>1.156961</td>\n",
              "      <td>1.099763</td>\n",
              "      <td>0.662674</td>\n",
              "      <td>757</td>\n",
              "      <td>60</td>\n",
              "    </tr>\n",
              "    <tr>\n",
              "      <th>1</th>\n",
              "      <td>M2</td>\n",
              "      <td>15</td>\n",
              "      <td>1.211035</td>\n",
              "      <td>0.855025</td>\n",
              "      <td>0.317592</td>\n",
              "      <td>695</td>\n",
              "      <td>51</td>\n",
              "    </tr>\n",
              "    <tr>\n",
              "      <th>2</th>\n",
              "      <td>M3</td>\n",
              "      <td>15</td>\n",
              "      <td>2.136547</td>\n",
              "      <td>1.071865</td>\n",
              "      <td>0.429608</td>\n",
              "      <td>872</td>\n",
              "      <td>64</td>\n",
              "    </tr>\n",
              "    <tr>\n",
              "      <th>3</th>\n",
              "      <td>M4</td>\n",
              "      <td>16</td>\n",
              "      <td>1.359729</td>\n",
              "      <td>1.190878</td>\n",
              "      <td>0.409812</td>\n",
              "      <td>653</td>\n",
              "      <td>53</td>\n",
              "    </tr>\n",
              "    <tr>\n",
              "      <th>4</th>\n",
              "      <td>M1</td>\n",
              "      <td>16</td>\n",
              "      <td>1.540807</td>\n",
              "      <td>0.630224</td>\n",
              "      <td>0.180200</td>\n",
              "      <td>648</td>\n",
              "      <td>51</td>\n",
              "    </tr>\n",
              "  </tbody>\n",
              "</table>\n",
              "</div>\n",
              "    <div class=\"colab-df-buttons\">\n",
              "\n",
              "  <div class=\"colab-df-container\">\n",
              "    <button class=\"colab-df-convert\" onclick=\"convertToInteractive('df-c58ca5f6-ffb8-4492-b36a-5173bdd4fa8f')\"\n",
              "            title=\"Convert this dataframe to an interactive table.\"\n",
              "            style=\"display:none;\">\n",
              "\n",
              "  <svg xmlns=\"http://www.w3.org/2000/svg\" height=\"24px\" viewBox=\"0 -960 960 960\">\n",
              "    <path d=\"M120-120v-720h720v720H120Zm60-500h600v-160H180v160Zm220 220h160v-160H400v160Zm0 220h160v-160H400v160ZM180-400h160v-160H180v160Zm440 0h160v-160H620v160ZM180-180h160v-160H180v160Zm440 0h160v-160H620v160Z\"/>\n",
              "  </svg>\n",
              "    </button>\n",
              "\n",
              "  <style>\n",
              "    .colab-df-container {\n",
              "      display:flex;\n",
              "      gap: 12px;\n",
              "    }\n",
              "\n",
              "    .colab-df-convert {\n",
              "      background-color: #E8F0FE;\n",
              "      border: none;\n",
              "      border-radius: 50%;\n",
              "      cursor: pointer;\n",
              "      display: none;\n",
              "      fill: #1967D2;\n",
              "      height: 32px;\n",
              "      padding: 0 0 0 0;\n",
              "      width: 32px;\n",
              "    }\n",
              "\n",
              "    .colab-df-convert:hover {\n",
              "      background-color: #E2EBFA;\n",
              "      box-shadow: 0px 1px 2px rgba(60, 64, 67, 0.3), 0px 1px 3px 1px rgba(60, 64, 67, 0.15);\n",
              "      fill: #174EA6;\n",
              "    }\n",
              "\n",
              "    .colab-df-buttons div {\n",
              "      margin-bottom: 4px;\n",
              "    }\n",
              "\n",
              "    [theme=dark] .colab-df-convert {\n",
              "      background-color: #3B4455;\n",
              "      fill: #D2E3FC;\n",
              "    }\n",
              "\n",
              "    [theme=dark] .colab-df-convert:hover {\n",
              "      background-color: #434B5C;\n",
              "      box-shadow: 0px 1px 3px 1px rgba(0, 0, 0, 0.15);\n",
              "      filter: drop-shadow(0px 1px 2px rgba(0, 0, 0, 0.3));\n",
              "      fill: #FFFFFF;\n",
              "    }\n",
              "  </style>\n",
              "\n",
              "    <script>\n",
              "      const buttonEl =\n",
              "        document.querySelector('#df-c58ca5f6-ffb8-4492-b36a-5173bdd4fa8f button.colab-df-convert');\n",
              "      buttonEl.style.display =\n",
              "        google.colab.kernel.accessAllowed ? 'block' : 'none';\n",
              "\n",
              "      async function convertToInteractive(key) {\n",
              "        const element = document.querySelector('#df-c58ca5f6-ffb8-4492-b36a-5173bdd4fa8f');\n",
              "        const dataTable =\n",
              "          await google.colab.kernel.invokeFunction('convertToInteractive',\n",
              "                                                    [key], {});\n",
              "        if (!dataTable) return;\n",
              "\n",
              "        const docLinkHtml = 'Like what you see? Visit the ' +\n",
              "          '<a target=\"_blank\" href=https://colab.research.google.com/notebooks/data_table.ipynb>data table notebook</a>'\n",
              "          + ' to learn more about interactive tables.';\n",
              "        element.innerHTML = '';\n",
              "        dataTable['output_type'] = 'display_data';\n",
              "        await google.colab.output.renderOutput(dataTable, element);\n",
              "        const docLink = document.createElement('div');\n",
              "        docLink.innerHTML = docLinkHtml;\n",
              "        element.appendChild(docLink);\n",
              "      }\n",
              "    </script>\n",
              "  </div>\n",
              "\n",
              "\n",
              "<div id=\"df-a897c171-0a31-4d21-ab33-e8275d0aabe9\">\n",
              "  <button class=\"colab-df-quickchart\" onclick=\"quickchart('df-a897c171-0a31-4d21-ab33-e8275d0aabe9')\"\n",
              "            title=\"Suggest charts\"\n",
              "            style=\"display:none;\">\n",
              "\n",
              "<svg xmlns=\"http://www.w3.org/2000/svg\" height=\"24px\"viewBox=\"0 0 24 24\"\n",
              "     width=\"24px\">\n",
              "    <g>\n",
              "        <path d=\"M19 3H5c-1.1 0-2 .9-2 2v14c0 1.1.9 2 2 2h14c1.1 0 2-.9 2-2V5c0-1.1-.9-2-2-2zM9 17H7v-7h2v7zm4 0h-2V7h2v10zm4 0h-2v-4h2v4z\"/>\n",
              "    </g>\n",
              "</svg>\n",
              "  </button>\n",
              "\n",
              "<style>\n",
              "  .colab-df-quickchart {\n",
              "      --bg-color: #E8F0FE;\n",
              "      --fill-color: #1967D2;\n",
              "      --hover-bg-color: #E2EBFA;\n",
              "      --hover-fill-color: #174EA6;\n",
              "      --disabled-fill-color: #AAA;\n",
              "      --disabled-bg-color: #DDD;\n",
              "  }\n",
              "\n",
              "  [theme=dark] .colab-df-quickchart {\n",
              "      --bg-color: #3B4455;\n",
              "      --fill-color: #D2E3FC;\n",
              "      --hover-bg-color: #434B5C;\n",
              "      --hover-fill-color: #FFFFFF;\n",
              "      --disabled-bg-color: #3B4455;\n",
              "      --disabled-fill-color: #666;\n",
              "  }\n",
              "\n",
              "  .colab-df-quickchart {\n",
              "    background-color: var(--bg-color);\n",
              "    border: none;\n",
              "    border-radius: 50%;\n",
              "    cursor: pointer;\n",
              "    display: none;\n",
              "    fill: var(--fill-color);\n",
              "    height: 32px;\n",
              "    padding: 0;\n",
              "    width: 32px;\n",
              "  }\n",
              "\n",
              "  .colab-df-quickchart:hover {\n",
              "    background-color: var(--hover-bg-color);\n",
              "    box-shadow: 0 1px 2px rgba(60, 64, 67, 0.3), 0 1px 3px 1px rgba(60, 64, 67, 0.15);\n",
              "    fill: var(--button-hover-fill-color);\n",
              "  }\n",
              "\n",
              "  .colab-df-quickchart-complete:disabled,\n",
              "  .colab-df-quickchart-complete:disabled:hover {\n",
              "    background-color: var(--disabled-bg-color);\n",
              "    fill: var(--disabled-fill-color);\n",
              "    box-shadow: none;\n",
              "  }\n",
              "\n",
              "  .colab-df-spinner {\n",
              "    border: 2px solid var(--fill-color);\n",
              "    border-color: transparent;\n",
              "    border-bottom-color: var(--fill-color);\n",
              "    animation:\n",
              "      spin 1s steps(1) infinite;\n",
              "  }\n",
              "\n",
              "  @keyframes spin {\n",
              "    0% {\n",
              "      border-color: transparent;\n",
              "      border-bottom-color: var(--fill-color);\n",
              "      border-left-color: var(--fill-color);\n",
              "    }\n",
              "    20% {\n",
              "      border-color: transparent;\n",
              "      border-left-color: var(--fill-color);\n",
              "      border-top-color: var(--fill-color);\n",
              "    }\n",
              "    30% {\n",
              "      border-color: transparent;\n",
              "      border-left-color: var(--fill-color);\n",
              "      border-top-color: var(--fill-color);\n",
              "      border-right-color: var(--fill-color);\n",
              "    }\n",
              "    40% {\n",
              "      border-color: transparent;\n",
              "      border-right-color: var(--fill-color);\n",
              "      border-top-color: var(--fill-color);\n",
              "    }\n",
              "    60% {\n",
              "      border-color: transparent;\n",
              "      border-right-color: var(--fill-color);\n",
              "    }\n",
              "    80% {\n",
              "      border-color: transparent;\n",
              "      border-right-color: var(--fill-color);\n",
              "      border-bottom-color: var(--fill-color);\n",
              "    }\n",
              "    90% {\n",
              "      border-color: transparent;\n",
              "      border-bottom-color: var(--fill-color);\n",
              "    }\n",
              "  }\n",
              "</style>\n",
              "\n",
              "  <script>\n",
              "    async function quickchart(key) {\n",
              "      const quickchartButtonEl =\n",
              "        document.querySelector('#' + key + ' button');\n",
              "      quickchartButtonEl.disabled = true;  // To prevent multiple clicks.\n",
              "      quickchartButtonEl.classList.add('colab-df-spinner');\n",
              "      try {\n",
              "        const charts = await google.colab.kernel.invokeFunction(\n",
              "            'suggestCharts', [key], {});\n",
              "      } catch (error) {\n",
              "        console.error('Error during call to suggestCharts:', error);\n",
              "      }\n",
              "      quickchartButtonEl.classList.remove('colab-df-spinner');\n",
              "      quickchartButtonEl.classList.add('colab-df-quickchart-complete');\n",
              "    }\n",
              "    (() => {\n",
              "      let quickchartButtonEl =\n",
              "        document.querySelector('#df-a897c171-0a31-4d21-ab33-e8275d0aabe9 button');\n",
              "      quickchartButtonEl.style.display =\n",
              "        google.colab.kernel.accessAllowed ? 'block' : 'none';\n",
              "    })();\n",
              "  </script>\n",
              "</div>\n",
              "\n",
              "    </div>\n",
              "  </div>\n"
            ],
            "application/vnd.google.colaboratory.intrinsic+json": {
              "type": "dataframe",
              "variable_name": "df",
              "summary": "{\n  \"name\": \"df\",\n  \"rows\": 1000,\n  \"fields\": [\n    {\n      \"column\": \"Machine\",\n      \"properties\": {\n        \"dtype\": \"category\",\n        \"num_unique_values\": 4,\n        \"samples\": [\n          \"M2\",\n          \"M4\",\n          \"M1\"\n        ],\n        \"semantic_type\": \"\",\n        \"description\": \"\"\n      }\n    },\n    {\n      \"column\": \"Temps ouverture (heures)\",\n      \"properties\": {\n        \"dtype\": \"number\",\n        \"std\": 0,\n        \"min\": 15,\n        \"max\": 17,\n        \"num_unique_values\": 3,\n        \"samples\": [\n          15,\n          16,\n          17\n        ],\n        \"semantic_type\": \"\",\n        \"description\": \"\"\n      }\n    },\n    {\n      \"column\": \"Arret planifie (heures)\",\n      \"properties\": {\n        \"dtype\": \"number\",\n        \"std\": 0.4416697432232271,\n        \"min\": 1.0000783976983916,\n        \"max\": 2.4989463932212472,\n        \"num_unique_values\": 1000,\n        \"samples\": [\n          1.037505341604899,\n          1.417268058324521,\n          2.027960162415048\n        ],\n        \"semantic_type\": \"\",\n        \"description\": \"\"\n      }\n    },\n    {\n      \"column\": \"Duree de panne (heures)\",\n      \"properties\": {\n        \"dtype\": \"number\",\n        \"std\": 0.2847580409225176,\n        \"min\": 0.5012773266947749,\n        \"max\": 1.498742929540508,\n        \"num_unique_values\": 1000,\n        \"samples\": [\n          0.9151304883878024,\n          1.080524169508122,\n          1.101422321217239\n        ],\n        \"semantic_type\": \"\",\n        \"description\": \"\"\n      }\n    },\n    {\n      \"column\": \"Ecart de cadence (heures)\",\n      \"properties\": {\n        \"dtype\": \"number\",\n        \"std\": 0.1737278708727316,\n        \"min\": 0.100648196102491,\n        \"max\": 0.6983555176179981,\n        \"num_unique_values\": 1000,\n        \"samples\": [\n          0.228142966161857,\n          0.4930036007689597,\n          0.6301501991038371\n        ],\n        \"semantic_type\": \"\",\n        \"description\": \"\"\n      }\n    },\n    {\n      \"column\": \"Nombre de piece bonne\",\n      \"properties\": {\n        \"dtype\": \"number\",\n        \"std\": 86,\n        \"min\": 600,\n        \"max\": 899,\n        \"num_unique_values\": 291,\n        \"samples\": [\n          681,\n          724,\n          796\n        ],\n        \"semantic_type\": \"\",\n        \"description\": \"\"\n      }\n    },\n    {\n      \"column\": \"Cadence de production (piees/minute)\",\n      \"properties\": {\n        \"dtype\": \"number\",\n        \"std\": 4,\n        \"min\": 50,\n        \"max\": 64,\n        \"num_unique_values\": 15,\n        \"samples\": [\n          58,\n          61,\n          60\n        ],\n        \"semantic_type\": \"\",\n        \"description\": \"\"\n      }\n    }\n  ]\n}"
            }
          },
          "metadata": {},
          "execution_count": 8
        }
      ],
      "source": [
        "df.head()"
      ]
    },
    {
      "cell_type": "code",
      "execution_count": 9,
      "metadata": {
        "colab": {
          "base_uri": "https://localhost:8080/"
        },
        "id": "CgIerhxAJJ4v",
        "outputId": "3ab6a7e1-1efd-49bf-dbbd-b741b70990dc"
      },
      "outputs": [
        {
          "output_type": "stream",
          "name": "stdout",
          "text": [
            "<class 'pandas.core.frame.DataFrame'>\n",
            "RangeIndex: 1000 entries, 0 to 999\n",
            "Data columns (total 7 columns):\n",
            " #   Column                                Non-Null Count  Dtype  \n",
            "---  ------                                --------------  -----  \n",
            " 0   Machine                               1000 non-null   object \n",
            " 1   Temps ouverture (heures)              1000 non-null   int64  \n",
            " 2   Arret planifie (heures)               1000 non-null   float64\n",
            " 3   Duree de panne (heures)               1000 non-null   float64\n",
            " 4   Ecart de cadence (heures)             1000 non-null   float64\n",
            " 5   Nombre de piece bonne                 1000 non-null   int64  \n",
            " 6   Cadence de production (piees/minute)  1000 non-null   int64  \n",
            "dtypes: float64(3), int64(3), object(1)\n",
            "memory usage: 54.8+ KB\n"
          ]
        }
      ],
      "source": [
        "df.info()"
      ]
    },
    {
      "cell_type": "code",
      "execution_count": 10,
      "metadata": {
        "colab": {
          "base_uri": "https://localhost:8080/",
          "height": 335
        },
        "id": "REtkav8CJJ4w",
        "outputId": "53e6d240-8a21-4f66-c7cb-736c3eb15121"
      },
      "outputs": [
        {
          "output_type": "execute_result",
          "data": {
            "text/plain": [
              "       Temps ouverture (heures)  Arret planifie (heures)  \\\n",
              "count               1000.000000              1000.000000   \n",
              "mean                  16.040000                 1.761091   \n",
              "std                    0.813057                 0.441670   \n",
              "min                   15.000000                 1.000078   \n",
              "25%                   15.000000                 1.371877   \n",
              "50%                   16.000000                 1.760350   \n",
              "75%                   17.000000                 2.150677   \n",
              "max                   17.000000                 2.498946   \n",
              "\n",
              "       Duree de panne (heures)  Ecart de cadence (heures)  \\\n",
              "count              1000.000000                1000.000000   \n",
              "mean                  1.004005                   0.400539   \n",
              "std                   0.284758                   0.173728   \n",
              "min                   0.501277                   0.100648   \n",
              "25%                   0.761208                   0.251688   \n",
              "50%                   1.004638                   0.397701   \n",
              "75%                   1.254102                   0.547564   \n",
              "max                   1.498743                   0.698356   \n",
              "\n",
              "       Nombre de piece bonne  Cadence de production (piees/minute)  \n",
              "count            1000.000000                           1000.000000  \n",
              "mean              743.682000                             57.298000  \n",
              "std                86.111754                              4.362824  \n",
              "min               600.000000                             50.000000  \n",
              "25%               665.750000                             53.000000  \n",
              "50%               739.000000                             57.000000  \n",
              "75%               818.000000                             61.000000  \n",
              "max               899.000000                             64.000000  "
            ],
            "text/html": [
              "\n",
              "  <div id=\"df-48dd99a5-8b16-4449-8c55-3f5752780427\" class=\"colab-df-container\">\n",
              "    <div>\n",
              "<style scoped>\n",
              "    .dataframe tbody tr th:only-of-type {\n",
              "        vertical-align: middle;\n",
              "    }\n",
              "\n",
              "    .dataframe tbody tr th {\n",
              "        vertical-align: top;\n",
              "    }\n",
              "\n",
              "    .dataframe thead th {\n",
              "        text-align: right;\n",
              "    }\n",
              "</style>\n",
              "<table border=\"1\" class=\"dataframe\">\n",
              "  <thead>\n",
              "    <tr style=\"text-align: right;\">\n",
              "      <th></th>\n",
              "      <th>Temps ouverture (heures)</th>\n",
              "      <th>Arret planifie (heures)</th>\n",
              "      <th>Duree de panne (heures)</th>\n",
              "      <th>Ecart de cadence (heures)</th>\n",
              "      <th>Nombre de piece bonne</th>\n",
              "      <th>Cadence de production (piees/minute)</th>\n",
              "    </tr>\n",
              "  </thead>\n",
              "  <tbody>\n",
              "    <tr>\n",
              "      <th>count</th>\n",
              "      <td>1000.000000</td>\n",
              "      <td>1000.000000</td>\n",
              "      <td>1000.000000</td>\n",
              "      <td>1000.000000</td>\n",
              "      <td>1000.000000</td>\n",
              "      <td>1000.000000</td>\n",
              "    </tr>\n",
              "    <tr>\n",
              "      <th>mean</th>\n",
              "      <td>16.040000</td>\n",
              "      <td>1.761091</td>\n",
              "      <td>1.004005</td>\n",
              "      <td>0.400539</td>\n",
              "      <td>743.682000</td>\n",
              "      <td>57.298000</td>\n",
              "    </tr>\n",
              "    <tr>\n",
              "      <th>std</th>\n",
              "      <td>0.813057</td>\n",
              "      <td>0.441670</td>\n",
              "      <td>0.284758</td>\n",
              "      <td>0.173728</td>\n",
              "      <td>86.111754</td>\n",
              "      <td>4.362824</td>\n",
              "    </tr>\n",
              "    <tr>\n",
              "      <th>min</th>\n",
              "      <td>15.000000</td>\n",
              "      <td>1.000078</td>\n",
              "      <td>0.501277</td>\n",
              "      <td>0.100648</td>\n",
              "      <td>600.000000</td>\n",
              "      <td>50.000000</td>\n",
              "    </tr>\n",
              "    <tr>\n",
              "      <th>25%</th>\n",
              "      <td>15.000000</td>\n",
              "      <td>1.371877</td>\n",
              "      <td>0.761208</td>\n",
              "      <td>0.251688</td>\n",
              "      <td>665.750000</td>\n",
              "      <td>53.000000</td>\n",
              "    </tr>\n",
              "    <tr>\n",
              "      <th>50%</th>\n",
              "      <td>16.000000</td>\n",
              "      <td>1.760350</td>\n",
              "      <td>1.004638</td>\n",
              "      <td>0.397701</td>\n",
              "      <td>739.000000</td>\n",
              "      <td>57.000000</td>\n",
              "    </tr>\n",
              "    <tr>\n",
              "      <th>75%</th>\n",
              "      <td>17.000000</td>\n",
              "      <td>2.150677</td>\n",
              "      <td>1.254102</td>\n",
              "      <td>0.547564</td>\n",
              "      <td>818.000000</td>\n",
              "      <td>61.000000</td>\n",
              "    </tr>\n",
              "    <tr>\n",
              "      <th>max</th>\n",
              "      <td>17.000000</td>\n",
              "      <td>2.498946</td>\n",
              "      <td>1.498743</td>\n",
              "      <td>0.698356</td>\n",
              "      <td>899.000000</td>\n",
              "      <td>64.000000</td>\n",
              "    </tr>\n",
              "  </tbody>\n",
              "</table>\n",
              "</div>\n",
              "    <div class=\"colab-df-buttons\">\n",
              "\n",
              "  <div class=\"colab-df-container\">\n",
              "    <button class=\"colab-df-convert\" onclick=\"convertToInteractive('df-48dd99a5-8b16-4449-8c55-3f5752780427')\"\n",
              "            title=\"Convert this dataframe to an interactive table.\"\n",
              "            style=\"display:none;\">\n",
              "\n",
              "  <svg xmlns=\"http://www.w3.org/2000/svg\" height=\"24px\" viewBox=\"0 -960 960 960\">\n",
              "    <path d=\"M120-120v-720h720v720H120Zm60-500h600v-160H180v160Zm220 220h160v-160H400v160Zm0 220h160v-160H400v160ZM180-400h160v-160H180v160Zm440 0h160v-160H620v160ZM180-180h160v-160H180v160Zm440 0h160v-160H620v160Z\"/>\n",
              "  </svg>\n",
              "    </button>\n",
              "\n",
              "  <style>\n",
              "    .colab-df-container {\n",
              "      display:flex;\n",
              "      gap: 12px;\n",
              "    }\n",
              "\n",
              "    .colab-df-convert {\n",
              "      background-color: #E8F0FE;\n",
              "      border: none;\n",
              "      border-radius: 50%;\n",
              "      cursor: pointer;\n",
              "      display: none;\n",
              "      fill: #1967D2;\n",
              "      height: 32px;\n",
              "      padding: 0 0 0 0;\n",
              "      width: 32px;\n",
              "    }\n",
              "\n",
              "    .colab-df-convert:hover {\n",
              "      background-color: #E2EBFA;\n",
              "      box-shadow: 0px 1px 2px rgba(60, 64, 67, 0.3), 0px 1px 3px 1px rgba(60, 64, 67, 0.15);\n",
              "      fill: #174EA6;\n",
              "    }\n",
              "\n",
              "    .colab-df-buttons div {\n",
              "      margin-bottom: 4px;\n",
              "    }\n",
              "\n",
              "    [theme=dark] .colab-df-convert {\n",
              "      background-color: #3B4455;\n",
              "      fill: #D2E3FC;\n",
              "    }\n",
              "\n",
              "    [theme=dark] .colab-df-convert:hover {\n",
              "      background-color: #434B5C;\n",
              "      box-shadow: 0px 1px 3px 1px rgba(0, 0, 0, 0.15);\n",
              "      filter: drop-shadow(0px 1px 2px rgba(0, 0, 0, 0.3));\n",
              "      fill: #FFFFFF;\n",
              "    }\n",
              "  </style>\n",
              "\n",
              "    <script>\n",
              "      const buttonEl =\n",
              "        document.querySelector('#df-48dd99a5-8b16-4449-8c55-3f5752780427 button.colab-df-convert');\n",
              "      buttonEl.style.display =\n",
              "        google.colab.kernel.accessAllowed ? 'block' : 'none';\n",
              "\n",
              "      async function convertToInteractive(key) {\n",
              "        const element = document.querySelector('#df-48dd99a5-8b16-4449-8c55-3f5752780427');\n",
              "        const dataTable =\n",
              "          await google.colab.kernel.invokeFunction('convertToInteractive',\n",
              "                                                    [key], {});\n",
              "        if (!dataTable) return;\n",
              "\n",
              "        const docLinkHtml = 'Like what you see? Visit the ' +\n",
              "          '<a target=\"_blank\" href=https://colab.research.google.com/notebooks/data_table.ipynb>data table notebook</a>'\n",
              "          + ' to learn more about interactive tables.';\n",
              "        element.innerHTML = '';\n",
              "        dataTable['output_type'] = 'display_data';\n",
              "        await google.colab.output.renderOutput(dataTable, element);\n",
              "        const docLink = document.createElement('div');\n",
              "        docLink.innerHTML = docLinkHtml;\n",
              "        element.appendChild(docLink);\n",
              "      }\n",
              "    </script>\n",
              "  </div>\n",
              "\n",
              "\n",
              "<div id=\"df-3a113f34-460a-404e-bf16-ebfb67e63030\">\n",
              "  <button class=\"colab-df-quickchart\" onclick=\"quickchart('df-3a113f34-460a-404e-bf16-ebfb67e63030')\"\n",
              "            title=\"Suggest charts\"\n",
              "            style=\"display:none;\">\n",
              "\n",
              "<svg xmlns=\"http://www.w3.org/2000/svg\" height=\"24px\"viewBox=\"0 0 24 24\"\n",
              "     width=\"24px\">\n",
              "    <g>\n",
              "        <path d=\"M19 3H5c-1.1 0-2 .9-2 2v14c0 1.1.9 2 2 2h14c1.1 0 2-.9 2-2V5c0-1.1-.9-2-2-2zM9 17H7v-7h2v7zm4 0h-2V7h2v10zm4 0h-2v-4h2v4z\"/>\n",
              "    </g>\n",
              "</svg>\n",
              "  </button>\n",
              "\n",
              "<style>\n",
              "  .colab-df-quickchart {\n",
              "      --bg-color: #E8F0FE;\n",
              "      --fill-color: #1967D2;\n",
              "      --hover-bg-color: #E2EBFA;\n",
              "      --hover-fill-color: #174EA6;\n",
              "      --disabled-fill-color: #AAA;\n",
              "      --disabled-bg-color: #DDD;\n",
              "  }\n",
              "\n",
              "  [theme=dark] .colab-df-quickchart {\n",
              "      --bg-color: #3B4455;\n",
              "      --fill-color: #D2E3FC;\n",
              "      --hover-bg-color: #434B5C;\n",
              "      --hover-fill-color: #FFFFFF;\n",
              "      --disabled-bg-color: #3B4455;\n",
              "      --disabled-fill-color: #666;\n",
              "  }\n",
              "\n",
              "  .colab-df-quickchart {\n",
              "    background-color: var(--bg-color);\n",
              "    border: none;\n",
              "    border-radius: 50%;\n",
              "    cursor: pointer;\n",
              "    display: none;\n",
              "    fill: var(--fill-color);\n",
              "    height: 32px;\n",
              "    padding: 0;\n",
              "    width: 32px;\n",
              "  }\n",
              "\n",
              "  .colab-df-quickchart:hover {\n",
              "    background-color: var(--hover-bg-color);\n",
              "    box-shadow: 0 1px 2px rgba(60, 64, 67, 0.3), 0 1px 3px 1px rgba(60, 64, 67, 0.15);\n",
              "    fill: var(--button-hover-fill-color);\n",
              "  }\n",
              "\n",
              "  .colab-df-quickchart-complete:disabled,\n",
              "  .colab-df-quickchart-complete:disabled:hover {\n",
              "    background-color: var(--disabled-bg-color);\n",
              "    fill: var(--disabled-fill-color);\n",
              "    box-shadow: none;\n",
              "  }\n",
              "\n",
              "  .colab-df-spinner {\n",
              "    border: 2px solid var(--fill-color);\n",
              "    border-color: transparent;\n",
              "    border-bottom-color: var(--fill-color);\n",
              "    animation:\n",
              "      spin 1s steps(1) infinite;\n",
              "  }\n",
              "\n",
              "  @keyframes spin {\n",
              "    0% {\n",
              "      border-color: transparent;\n",
              "      border-bottom-color: var(--fill-color);\n",
              "      border-left-color: var(--fill-color);\n",
              "    }\n",
              "    20% {\n",
              "      border-color: transparent;\n",
              "      border-left-color: var(--fill-color);\n",
              "      border-top-color: var(--fill-color);\n",
              "    }\n",
              "    30% {\n",
              "      border-color: transparent;\n",
              "      border-left-color: var(--fill-color);\n",
              "      border-top-color: var(--fill-color);\n",
              "      border-right-color: var(--fill-color);\n",
              "    }\n",
              "    40% {\n",
              "      border-color: transparent;\n",
              "      border-right-color: var(--fill-color);\n",
              "      border-top-color: var(--fill-color);\n",
              "    }\n",
              "    60% {\n",
              "      border-color: transparent;\n",
              "      border-right-color: var(--fill-color);\n",
              "    }\n",
              "    80% {\n",
              "      border-color: transparent;\n",
              "      border-right-color: var(--fill-color);\n",
              "      border-bottom-color: var(--fill-color);\n",
              "    }\n",
              "    90% {\n",
              "      border-color: transparent;\n",
              "      border-bottom-color: var(--fill-color);\n",
              "    }\n",
              "  }\n",
              "</style>\n",
              "\n",
              "  <script>\n",
              "    async function quickchart(key) {\n",
              "      const quickchartButtonEl =\n",
              "        document.querySelector('#' + key + ' button');\n",
              "      quickchartButtonEl.disabled = true;  // To prevent multiple clicks.\n",
              "      quickchartButtonEl.classList.add('colab-df-spinner');\n",
              "      try {\n",
              "        const charts = await google.colab.kernel.invokeFunction(\n",
              "            'suggestCharts', [key], {});\n",
              "      } catch (error) {\n",
              "        console.error('Error during call to suggestCharts:', error);\n",
              "      }\n",
              "      quickchartButtonEl.classList.remove('colab-df-spinner');\n",
              "      quickchartButtonEl.classList.add('colab-df-quickchart-complete');\n",
              "    }\n",
              "    (() => {\n",
              "      let quickchartButtonEl =\n",
              "        document.querySelector('#df-3a113f34-460a-404e-bf16-ebfb67e63030 button');\n",
              "      quickchartButtonEl.style.display =\n",
              "        google.colab.kernel.accessAllowed ? 'block' : 'none';\n",
              "    })();\n",
              "  </script>\n",
              "</div>\n",
              "\n",
              "    </div>\n",
              "  </div>\n"
            ],
            "application/vnd.google.colaboratory.intrinsic+json": {
              "type": "dataframe",
              "summary": "{\n  \"name\": \"df\",\n  \"rows\": 8,\n  \"fields\": [\n    {\n      \"column\": \"Temps ouverture (heures)\",\n      \"properties\": {\n        \"dtype\": \"number\",\n        \"std\": 348.7029259955565,\n        \"min\": 0.8130566161474027,\n        \"max\": 1000.0,\n        \"num_unique_values\": 6,\n        \"samples\": [\n          1000.0,\n          16.04,\n          17.0\n        ],\n        \"semantic_type\": \"\",\n        \"description\": \"\"\n      }\n    },\n    {\n      \"column\": \"Arret planifie (heures)\",\n      \"properties\": {\n        \"dtype\": \"number\",\n        \"std\": 352.99916884176565,\n        \"min\": 0.4416697432232271,\n        \"max\": 1000.0,\n        \"num_unique_values\": 8,\n        \"samples\": [\n          1.7610913263936465,\n          1.7603497617985153,\n          1000.0\n        ],\n        \"semantic_type\": \"\",\n        \"description\": \"\"\n      }\n    },\n    {\n      \"column\": \"Duree de panne (heures)\",\n      \"properties\": {\n        \"dtype\": \"number\",\n        \"std\": 353.2349663645223,\n        \"min\": 0.2847580409225176,\n        \"max\": 1000.0,\n        \"num_unique_values\": 8,\n        \"samples\": [\n          1.004005266976514,\n          1.004638082511115,\n          1000.0\n        ],\n        \"semantic_type\": \"\",\n        \"description\": \"\"\n      }\n    },\n    {\n      \"column\": \"Ecart de cadence (heures)\",\n      \"properties\": {\n        \"dtype\": \"number\",\n        \"std\": 353.4236284188054,\n        \"min\": 0.100648196102491,\n        \"max\": 1000.0,\n        \"num_unique_values\": 8,\n        \"samples\": [\n          0.4005394435144761,\n          0.3977013122114912,\n          1000.0\n        ],\n        \"semantic_type\": \"\",\n        \"description\": \"\"\n      }\n    },\n    {\n      \"column\": \"Nombre de piece bonne\",\n      \"properties\": {\n        \"dtype\": \"number\",\n        \"std\": 276.3777067970438,\n        \"min\": 86.11175361186244,\n        \"max\": 1000.0,\n        \"num_unique_values\": 8,\n        \"samples\": [\n          743.682,\n          739.0,\n          1000.0\n        ],\n        \"semantic_type\": \"\",\n        \"description\": \"\"\n      }\n    },\n    {\n      \"column\": \"Cadence de production (piees/minute)\",\n      \"properties\": {\n        \"dtype\": \"number\",\n        \"std\": 336.5773469350566,\n        \"min\": 4.362823653350018,\n        \"max\": 1000.0,\n        \"num_unique_values\": 8,\n        \"samples\": [\n          57.298,\n          57.0,\n          1000.0\n        ],\n        \"semantic_type\": \"\",\n        \"description\": \"\"\n      }\n    }\n  ]\n}"
            }
          },
          "metadata": {},
          "execution_count": 10
        }
      ],
      "source": [
        "df.describe()"
      ]
    },
    {
      "cell_type": "markdown",
      "metadata": {
        "id": "9094j8srDips"
      },
      "source": [
        "# Partie 1 : Analyse industrielle et modélisation"
      ]
    },
    {
      "cell_type": "markdown",
      "metadata": {
        "id": "KpGSskxoDipt"
      },
      "source": [
        "## 1. Calcul du temps de fonctionnement\n"
      ]
    },
    {
      "cell_type": "code",
      "execution_count": 11,
      "metadata": {
        "id": "X9aMs7zWJJ4w"
      },
      "outputs": [],
      "source": [
        "# Calcul du temps de fonctionnement\n",
        "df['Temps de fonctionnement'] = df['Temps ouverture (heures)'] - df['Arret planifie (heures)'] - df['Duree de panne (heures)']"
      ]
    },
    {
      "cell_type": "markdown",
      "metadata": {
        "id": "fdoqusOJDipu"
      },
      "source": [
        "## 2. Calcul du temps requis"
      ]
    },
    {
      "cell_type": "code",
      "execution_count": 12,
      "metadata": {
        "id": "6G_V2VBjJJ4x"
      },
      "outputs": [],
      "source": [
        "# Calcul du temps requis\n",
        "df['Temps requis'] = df['Temps de fonctionnement'] - df['Ecart de cadence (heures)']"
      ]
    },
    {
      "cell_type": "markdown",
      "metadata": {
        "id": "gxJgnS-UDipu"
      },
      "source": [
        "## 3. Calcul du temps net"
      ]
    },
    {
      "cell_type": "code",
      "execution_count": 13,
      "metadata": {
        "id": "PWgl3qrdJJ4y"
      },
      "outputs": [],
      "source": [
        "# Calcul du temps net\n",
        "df['Temps net'] = df['Temps requis']"
      ]
    },
    {
      "cell_type": "markdown",
      "metadata": {
        "id": "Q7LJ7A1nDipw"
      },
      "source": [
        "## 4. Calcul du temps utile"
      ]
    },
    {
      "cell_type": "code",
      "execution_count": 14,
      "metadata": {
        "id": "WjiyDRVNJJ4y"
      },
      "outputs": [],
      "source": [
        "# Calcul du temps utile\n",
        "df['Temps utile'] = df['Nombre de piece bonne'] / (df['Cadence de production (piees/minute)'] * 60)"
      ]
    },
    {
      "cell_type": "markdown",
      "metadata": {
        "id": "hf1ABVWMDipw"
      },
      "source": [
        "## 5. Calcul de l'efficacité globale des équipements (TRS)"
      ]
    },
    {
      "cell_type": "code",
      "execution_count": 15,
      "metadata": {
        "id": "6biy0gqJJJ4z"
      },
      "outputs": [],
      "source": [
        "# Calcul de l'efficacité globale des équipements (TRS)\n",
        "df['TRS'] = df['Temps utile'] / df['Temps de fonctionnement'] * 100"
      ]
    },
    {
      "cell_type": "code",
      "execution_count": 16,
      "metadata": {
        "colab": {
          "base_uri": "https://localhost:8080/",
          "height": 278
        },
        "id": "OZ7DFFXLJJ4z",
        "outputId": "b2c10420-3ab4-4942-855e-47413045c121"
      },
      "outputs": [
        {
          "output_type": "execute_result",
          "data": {
            "text/plain": [
              "  Machine  Temps ouverture (heures)  Arret planifie (heures)  \\\n",
              "0      M1                        15                 1.156961   \n",
              "1      M2                        15                 1.211035   \n",
              "2      M3                        15                 2.136547   \n",
              "3      M4                        16                 1.359729   \n",
              "4      M1                        16                 1.540807   \n",
              "\n",
              "   Duree de panne (heures)  Ecart de cadence (heures)  Nombre de piece bonne  \\\n",
              "0                 1.099763                   0.662674                    757   \n",
              "1                 0.855025                   0.317592                    695   \n",
              "2                 1.071865                   0.429608                    872   \n",
              "3                 1.190878                   0.409812                    653   \n",
              "4                 0.630224                   0.180200                    648   \n",
              "\n",
              "   Cadence de production (piees/minute)  Temps de fonctionnement  \\\n",
              "0                                    60                12.743276   \n",
              "1                                    51                12.933940   \n",
              "2                                    64                11.791588   \n",
              "3                                    53                13.449393   \n",
              "4                                    51                13.828969   \n",
              "\n",
              "   Temps requis  Temps net  Temps utile       TRS  \n",
              "0     12.080601  12.080601     0.210278  1.650108  \n",
              "1     12.616348  12.616348     0.227124  1.756032  \n",
              "2     11.361981  11.361981     0.227083  1.925808  \n",
              "3     13.039580  13.039580     0.205346  1.526804  \n",
              "4     13.648769  13.648769     0.211765  1.531312  "
            ],
            "text/html": [
              "\n",
              "  <div id=\"df-1df3d506-2cb2-4837-b986-db507dde8e27\" class=\"colab-df-container\">\n",
              "    <div>\n",
              "<style scoped>\n",
              "    .dataframe tbody tr th:only-of-type {\n",
              "        vertical-align: middle;\n",
              "    }\n",
              "\n",
              "    .dataframe tbody tr th {\n",
              "        vertical-align: top;\n",
              "    }\n",
              "\n",
              "    .dataframe thead th {\n",
              "        text-align: right;\n",
              "    }\n",
              "</style>\n",
              "<table border=\"1\" class=\"dataframe\">\n",
              "  <thead>\n",
              "    <tr style=\"text-align: right;\">\n",
              "      <th></th>\n",
              "      <th>Machine</th>\n",
              "      <th>Temps ouverture (heures)</th>\n",
              "      <th>Arret planifie (heures)</th>\n",
              "      <th>Duree de panne (heures)</th>\n",
              "      <th>Ecart de cadence (heures)</th>\n",
              "      <th>Nombre de piece bonne</th>\n",
              "      <th>Cadence de production (piees/minute)</th>\n",
              "      <th>Temps de fonctionnement</th>\n",
              "      <th>Temps requis</th>\n",
              "      <th>Temps net</th>\n",
              "      <th>Temps utile</th>\n",
              "      <th>TRS</th>\n",
              "    </tr>\n",
              "  </thead>\n",
              "  <tbody>\n",
              "    <tr>\n",
              "      <th>0</th>\n",
              "      <td>M1</td>\n",
              "      <td>15</td>\n",
              "      <td>1.156961</td>\n",
              "      <td>1.099763</td>\n",
              "      <td>0.662674</td>\n",
              "      <td>757</td>\n",
              "      <td>60</td>\n",
              "      <td>12.743276</td>\n",
              "      <td>12.080601</td>\n",
              "      <td>12.080601</td>\n",
              "      <td>0.210278</td>\n",
              "      <td>1.650108</td>\n",
              "    </tr>\n",
              "    <tr>\n",
              "      <th>1</th>\n",
              "      <td>M2</td>\n",
              "      <td>15</td>\n",
              "      <td>1.211035</td>\n",
              "      <td>0.855025</td>\n",
              "      <td>0.317592</td>\n",
              "      <td>695</td>\n",
              "      <td>51</td>\n",
              "      <td>12.933940</td>\n",
              "      <td>12.616348</td>\n",
              "      <td>12.616348</td>\n",
              "      <td>0.227124</td>\n",
              "      <td>1.756032</td>\n",
              "    </tr>\n",
              "    <tr>\n",
              "      <th>2</th>\n",
              "      <td>M3</td>\n",
              "      <td>15</td>\n",
              "      <td>2.136547</td>\n",
              "      <td>1.071865</td>\n",
              "      <td>0.429608</td>\n",
              "      <td>872</td>\n",
              "      <td>64</td>\n",
              "      <td>11.791588</td>\n",
              "      <td>11.361981</td>\n",
              "      <td>11.361981</td>\n",
              "      <td>0.227083</td>\n",
              "      <td>1.925808</td>\n",
              "    </tr>\n",
              "    <tr>\n",
              "      <th>3</th>\n",
              "      <td>M4</td>\n",
              "      <td>16</td>\n",
              "      <td>1.359729</td>\n",
              "      <td>1.190878</td>\n",
              "      <td>0.409812</td>\n",
              "      <td>653</td>\n",
              "      <td>53</td>\n",
              "      <td>13.449393</td>\n",
              "      <td>13.039580</td>\n",
              "      <td>13.039580</td>\n",
              "      <td>0.205346</td>\n",
              "      <td>1.526804</td>\n",
              "    </tr>\n",
              "    <tr>\n",
              "      <th>4</th>\n",
              "      <td>M1</td>\n",
              "      <td>16</td>\n",
              "      <td>1.540807</td>\n",
              "      <td>0.630224</td>\n",
              "      <td>0.180200</td>\n",
              "      <td>648</td>\n",
              "      <td>51</td>\n",
              "      <td>13.828969</td>\n",
              "      <td>13.648769</td>\n",
              "      <td>13.648769</td>\n",
              "      <td>0.211765</td>\n",
              "      <td>1.531312</td>\n",
              "    </tr>\n",
              "  </tbody>\n",
              "</table>\n",
              "</div>\n",
              "    <div class=\"colab-df-buttons\">\n",
              "\n",
              "  <div class=\"colab-df-container\">\n",
              "    <button class=\"colab-df-convert\" onclick=\"convertToInteractive('df-1df3d506-2cb2-4837-b986-db507dde8e27')\"\n",
              "            title=\"Convert this dataframe to an interactive table.\"\n",
              "            style=\"display:none;\">\n",
              "\n",
              "  <svg xmlns=\"http://www.w3.org/2000/svg\" height=\"24px\" viewBox=\"0 -960 960 960\">\n",
              "    <path d=\"M120-120v-720h720v720H120Zm60-500h600v-160H180v160Zm220 220h160v-160H400v160Zm0 220h160v-160H400v160ZM180-400h160v-160H180v160Zm440 0h160v-160H620v160ZM180-180h160v-160H180v160Zm440 0h160v-160H620v160Z\"/>\n",
              "  </svg>\n",
              "    </button>\n",
              "\n",
              "  <style>\n",
              "    .colab-df-container {\n",
              "      display:flex;\n",
              "      gap: 12px;\n",
              "    }\n",
              "\n",
              "    .colab-df-convert {\n",
              "      background-color: #E8F0FE;\n",
              "      border: none;\n",
              "      border-radius: 50%;\n",
              "      cursor: pointer;\n",
              "      display: none;\n",
              "      fill: #1967D2;\n",
              "      height: 32px;\n",
              "      padding: 0 0 0 0;\n",
              "      width: 32px;\n",
              "    }\n",
              "\n",
              "    .colab-df-convert:hover {\n",
              "      background-color: #E2EBFA;\n",
              "      box-shadow: 0px 1px 2px rgba(60, 64, 67, 0.3), 0px 1px 3px 1px rgba(60, 64, 67, 0.15);\n",
              "      fill: #174EA6;\n",
              "    }\n",
              "\n",
              "    .colab-df-buttons div {\n",
              "      margin-bottom: 4px;\n",
              "    }\n",
              "\n",
              "    [theme=dark] .colab-df-convert {\n",
              "      background-color: #3B4455;\n",
              "      fill: #D2E3FC;\n",
              "    }\n",
              "\n",
              "    [theme=dark] .colab-df-convert:hover {\n",
              "      background-color: #434B5C;\n",
              "      box-shadow: 0px 1px 3px 1px rgba(0, 0, 0, 0.15);\n",
              "      filter: drop-shadow(0px 1px 2px rgba(0, 0, 0, 0.3));\n",
              "      fill: #FFFFFF;\n",
              "    }\n",
              "  </style>\n",
              "\n",
              "    <script>\n",
              "      const buttonEl =\n",
              "        document.querySelector('#df-1df3d506-2cb2-4837-b986-db507dde8e27 button.colab-df-convert');\n",
              "      buttonEl.style.display =\n",
              "        google.colab.kernel.accessAllowed ? 'block' : 'none';\n",
              "\n",
              "      async function convertToInteractive(key) {\n",
              "        const element = document.querySelector('#df-1df3d506-2cb2-4837-b986-db507dde8e27');\n",
              "        const dataTable =\n",
              "          await google.colab.kernel.invokeFunction('convertToInteractive',\n",
              "                                                    [key], {});\n",
              "        if (!dataTable) return;\n",
              "\n",
              "        const docLinkHtml = 'Like what you see? Visit the ' +\n",
              "          '<a target=\"_blank\" href=https://colab.research.google.com/notebooks/data_table.ipynb>data table notebook</a>'\n",
              "          + ' to learn more about interactive tables.';\n",
              "        element.innerHTML = '';\n",
              "        dataTable['output_type'] = 'display_data';\n",
              "        await google.colab.output.renderOutput(dataTable, element);\n",
              "        const docLink = document.createElement('div');\n",
              "        docLink.innerHTML = docLinkHtml;\n",
              "        element.appendChild(docLink);\n",
              "      }\n",
              "    </script>\n",
              "  </div>\n",
              "\n",
              "\n",
              "<div id=\"df-e05052e7-d6ea-4edf-9b05-3aa127a5a65e\">\n",
              "  <button class=\"colab-df-quickchart\" onclick=\"quickchart('df-e05052e7-d6ea-4edf-9b05-3aa127a5a65e')\"\n",
              "            title=\"Suggest charts\"\n",
              "            style=\"display:none;\">\n",
              "\n",
              "<svg xmlns=\"http://www.w3.org/2000/svg\" height=\"24px\"viewBox=\"0 0 24 24\"\n",
              "     width=\"24px\">\n",
              "    <g>\n",
              "        <path d=\"M19 3H5c-1.1 0-2 .9-2 2v14c0 1.1.9 2 2 2h14c1.1 0 2-.9 2-2V5c0-1.1-.9-2-2-2zM9 17H7v-7h2v7zm4 0h-2V7h2v10zm4 0h-2v-4h2v4z\"/>\n",
              "    </g>\n",
              "</svg>\n",
              "  </button>\n",
              "\n",
              "<style>\n",
              "  .colab-df-quickchart {\n",
              "      --bg-color: #E8F0FE;\n",
              "      --fill-color: #1967D2;\n",
              "      --hover-bg-color: #E2EBFA;\n",
              "      --hover-fill-color: #174EA6;\n",
              "      --disabled-fill-color: #AAA;\n",
              "      --disabled-bg-color: #DDD;\n",
              "  }\n",
              "\n",
              "  [theme=dark] .colab-df-quickchart {\n",
              "      --bg-color: #3B4455;\n",
              "      --fill-color: #D2E3FC;\n",
              "      --hover-bg-color: #434B5C;\n",
              "      --hover-fill-color: #FFFFFF;\n",
              "      --disabled-bg-color: #3B4455;\n",
              "      --disabled-fill-color: #666;\n",
              "  }\n",
              "\n",
              "  .colab-df-quickchart {\n",
              "    background-color: var(--bg-color);\n",
              "    border: none;\n",
              "    border-radius: 50%;\n",
              "    cursor: pointer;\n",
              "    display: none;\n",
              "    fill: var(--fill-color);\n",
              "    height: 32px;\n",
              "    padding: 0;\n",
              "    width: 32px;\n",
              "  }\n",
              "\n",
              "  .colab-df-quickchart:hover {\n",
              "    background-color: var(--hover-bg-color);\n",
              "    box-shadow: 0 1px 2px rgba(60, 64, 67, 0.3), 0 1px 3px 1px rgba(60, 64, 67, 0.15);\n",
              "    fill: var(--button-hover-fill-color);\n",
              "  }\n",
              "\n",
              "  .colab-df-quickchart-complete:disabled,\n",
              "  .colab-df-quickchart-complete:disabled:hover {\n",
              "    background-color: var(--disabled-bg-color);\n",
              "    fill: var(--disabled-fill-color);\n",
              "    box-shadow: none;\n",
              "  }\n",
              "\n",
              "  .colab-df-spinner {\n",
              "    border: 2px solid var(--fill-color);\n",
              "    border-color: transparent;\n",
              "    border-bottom-color: var(--fill-color);\n",
              "    animation:\n",
              "      spin 1s steps(1) infinite;\n",
              "  }\n",
              "\n",
              "  @keyframes spin {\n",
              "    0% {\n",
              "      border-color: transparent;\n",
              "      border-bottom-color: var(--fill-color);\n",
              "      border-left-color: var(--fill-color);\n",
              "    }\n",
              "    20% {\n",
              "      border-color: transparent;\n",
              "      border-left-color: var(--fill-color);\n",
              "      border-top-color: var(--fill-color);\n",
              "    }\n",
              "    30% {\n",
              "      border-color: transparent;\n",
              "      border-left-color: var(--fill-color);\n",
              "      border-top-color: var(--fill-color);\n",
              "      border-right-color: var(--fill-color);\n",
              "    }\n",
              "    40% {\n",
              "      border-color: transparent;\n",
              "      border-right-color: var(--fill-color);\n",
              "      border-top-color: var(--fill-color);\n",
              "    }\n",
              "    60% {\n",
              "      border-color: transparent;\n",
              "      border-right-color: var(--fill-color);\n",
              "    }\n",
              "    80% {\n",
              "      border-color: transparent;\n",
              "      border-right-color: var(--fill-color);\n",
              "      border-bottom-color: var(--fill-color);\n",
              "    }\n",
              "    90% {\n",
              "      border-color: transparent;\n",
              "      border-bottom-color: var(--fill-color);\n",
              "    }\n",
              "  }\n",
              "</style>\n",
              "\n",
              "  <script>\n",
              "    async function quickchart(key) {\n",
              "      const quickchartButtonEl =\n",
              "        document.querySelector('#' + key + ' button');\n",
              "      quickchartButtonEl.disabled = true;  // To prevent multiple clicks.\n",
              "      quickchartButtonEl.classList.add('colab-df-spinner');\n",
              "      try {\n",
              "        const charts = await google.colab.kernel.invokeFunction(\n",
              "            'suggestCharts', [key], {});\n",
              "      } catch (error) {\n",
              "        console.error('Error during call to suggestCharts:', error);\n",
              "      }\n",
              "      quickchartButtonEl.classList.remove('colab-df-spinner');\n",
              "      quickchartButtonEl.classList.add('colab-df-quickchart-complete');\n",
              "    }\n",
              "    (() => {\n",
              "      let quickchartButtonEl =\n",
              "        document.querySelector('#df-e05052e7-d6ea-4edf-9b05-3aa127a5a65e button');\n",
              "      quickchartButtonEl.style.display =\n",
              "        google.colab.kernel.accessAllowed ? 'block' : 'none';\n",
              "    })();\n",
              "  </script>\n",
              "</div>\n",
              "\n",
              "    </div>\n",
              "  </div>\n"
            ],
            "application/vnd.google.colaboratory.intrinsic+json": {
              "type": "dataframe",
              "variable_name": "df",
              "summary": "{\n  \"name\": \"df\",\n  \"rows\": 1000,\n  \"fields\": [\n    {\n      \"column\": \"Machine\",\n      \"properties\": {\n        \"dtype\": \"category\",\n        \"num_unique_values\": 4,\n        \"samples\": [\n          \"M2\",\n          \"M4\",\n          \"M1\"\n        ],\n        \"semantic_type\": \"\",\n        \"description\": \"\"\n      }\n    },\n    {\n      \"column\": \"Temps ouverture (heures)\",\n      \"properties\": {\n        \"dtype\": \"number\",\n        \"std\": 0,\n        \"min\": 15,\n        \"max\": 17,\n        \"num_unique_values\": 3,\n        \"samples\": [\n          15,\n          16,\n          17\n        ],\n        \"semantic_type\": \"\",\n        \"description\": \"\"\n      }\n    },\n    {\n      \"column\": \"Arret planifie (heures)\",\n      \"properties\": {\n        \"dtype\": \"number\",\n        \"std\": 0.4416697432232271,\n        \"min\": 1.0000783976983916,\n        \"max\": 2.4989463932212472,\n        \"num_unique_values\": 1000,\n        \"samples\": [\n          1.037505341604899,\n          1.417268058324521,\n          2.027960162415048\n        ],\n        \"semantic_type\": \"\",\n        \"description\": \"\"\n      }\n    },\n    {\n      \"column\": \"Duree de panne (heures)\",\n      \"properties\": {\n        \"dtype\": \"number\",\n        \"std\": 0.2847580409225176,\n        \"min\": 0.5012773266947749,\n        \"max\": 1.498742929540508,\n        \"num_unique_values\": 1000,\n        \"samples\": [\n          0.9151304883878024,\n          1.080524169508122,\n          1.101422321217239\n        ],\n        \"semantic_type\": \"\",\n        \"description\": \"\"\n      }\n    },\n    {\n      \"column\": \"Ecart de cadence (heures)\",\n      \"properties\": {\n        \"dtype\": \"number\",\n        \"std\": 0.1737278708727316,\n        \"min\": 0.100648196102491,\n        \"max\": 0.6983555176179981,\n        \"num_unique_values\": 1000,\n        \"samples\": [\n          0.228142966161857,\n          0.4930036007689597,\n          0.6301501991038371\n        ],\n        \"semantic_type\": \"\",\n        \"description\": \"\"\n      }\n    },\n    {\n      \"column\": \"Nombre de piece bonne\",\n      \"properties\": {\n        \"dtype\": \"number\",\n        \"std\": 86,\n        \"min\": 600,\n        \"max\": 899,\n        \"num_unique_values\": 291,\n        \"samples\": [\n          681,\n          724,\n          796\n        ],\n        \"semantic_type\": \"\",\n        \"description\": \"\"\n      }\n    },\n    {\n      \"column\": \"Cadence de production (piees/minute)\",\n      \"properties\": {\n        \"dtype\": \"number\",\n        \"std\": 4,\n        \"min\": 50,\n        \"max\": 64,\n        \"num_unique_values\": 15,\n        \"samples\": [\n          58,\n          61,\n          60\n        ],\n        \"semantic_type\": \"\",\n        \"description\": \"\"\n      }\n    },\n    {\n      \"column\": \"Temps de fonctionnement\",\n      \"properties\": {\n        \"dtype\": \"number\",\n        \"std\": 0.9585965339817618,\n        \"min\": 11.102470151585813,\n        \"max\": 15.367751603731474,\n        \"num_unique_values\": 1000,\n        \"samples\": [\n          13.047364170007299,\n          14.502207772167358,\n          11.870617516367712\n        ],\n        \"semantic_type\": \"\",\n        \"description\": \"\"\n      }\n    },\n    {\n      \"column\": \"Temps requis\",\n      \"properties\": {\n        \"dtype\": \"number\",\n        \"std\": 0.9804919078467152,\n        \"min\": 10.626320387156209,\n        \"max\": 15.207078005379795,\n        \"num_unique_values\": 1000,\n        \"samples\": [\n          12.819221203845443,\n          14.009204171398398,\n          11.240467317263874\n        ],\n        \"semantic_type\": \"\",\n        \"description\": \"\"\n      }\n    },\n    {\n      \"column\": \"Temps net\",\n      \"properties\": {\n        \"dtype\": \"number\",\n        \"std\": 0.9804919078467152,\n        \"min\": 10.626320387156209,\n        \"max\": 15.207078005379795,\n        \"num_unique_values\": 1000,\n        \"samples\": [\n          12.819221203845443,\n          14.009204171398398,\n          11.240467317263874\n        ],\n        \"semantic_type\": \"\",\n        \"description\": \"\"\n      }\n    },\n    {\n      \"column\": \"Temps utile\",\n      \"properties\": {\n        \"dtype\": \"number\",\n        \"std\": 0.031086522129596027,\n        \"min\": 0.15677083333333333,\n        \"max\": 0.2931372549019608,\n        \"num_unique_values\": 858,\n        \"samples\": [\n          0.2483974358974359,\n          0.22243589743589742,\n          0.26794871794871794\n        ],\n        \"semantic_type\": \"\",\n        \"description\": \"\"\n      }\n    },\n    {\n      \"column\": \"TRS\",\n      \"properties\": {\n        \"dtype\": \"number\",\n        \"std\": 0.2584327810711443,\n        \"min\": 1.0250379547549895,\n        \"max\": 2.445385509443899,\n        \"num_unique_values\": 1000,\n        \"samples\": [\n          1.248552762717594,\n          1.424674081685847,\n          1.6180834945393296\n        ],\n        \"semantic_type\": \"\",\n        \"description\": \"\"\n      }\n    }\n  ]\n}"
            }
          },
          "metadata": {},
          "execution_count": 16
        }
      ],
      "source": [
        "df.head()"
      ]
    },
    {
      "cell_type": "markdown",
      "metadata": {
        "id": "Xpck_bTyDipx"
      },
      "source": [
        "# Partie 2 : Intelligence Artificielle avec application d’un ANN"
      ]
    },
    {
      "cell_type": "markdown",
      "metadata": {
        "id": "LWR9lMSnDipy"
      },
      "source": [
        "## Étape 1 : Préparation des données"
      ]
    },
    {
      "cell_type": "code",
      "execution_count": 17,
      "metadata": {
        "id": "HxQUXbl8KiUI"
      },
      "outputs": [],
      "source": [
        "# setting labels and target\n",
        "X = df[['Temps de fonctionnement', 'Temps requis', 'Temps net', 'Temps utile']]\n",
        "y = df['TRS']\n"
      ]
    },
    {
      "cell_type": "code",
      "execution_count": 18,
      "metadata": {
        "colab": {
          "base_uri": "https://localhost:8080/",
          "height": 206
        },
        "id": "GmYQw-RhKrKX",
        "outputId": "51eeafa4-f8d9-4048-f428-c85cb5592380"
      },
      "outputs": [
        {
          "output_type": "execute_result",
          "data": {
            "text/plain": [
              "   Temps de fonctionnement  Temps requis  Temps net  Temps utile\n",
              "0                12.743276     12.080601  12.080601     0.210278\n",
              "1                12.933940     12.616348  12.616348     0.227124\n",
              "2                11.791588     11.361981  11.361981     0.227083\n",
              "3                13.449393     13.039580  13.039580     0.205346\n",
              "4                13.828969     13.648769  13.648769     0.211765"
            ],
            "text/html": [
              "\n",
              "  <div id=\"df-3a19688b-01ba-4e42-8f8a-b54ac021bf5e\" class=\"colab-df-container\">\n",
              "    <div>\n",
              "<style scoped>\n",
              "    .dataframe tbody tr th:only-of-type {\n",
              "        vertical-align: middle;\n",
              "    }\n",
              "\n",
              "    .dataframe tbody tr th {\n",
              "        vertical-align: top;\n",
              "    }\n",
              "\n",
              "    .dataframe thead th {\n",
              "        text-align: right;\n",
              "    }\n",
              "</style>\n",
              "<table border=\"1\" class=\"dataframe\">\n",
              "  <thead>\n",
              "    <tr style=\"text-align: right;\">\n",
              "      <th></th>\n",
              "      <th>Temps de fonctionnement</th>\n",
              "      <th>Temps requis</th>\n",
              "      <th>Temps net</th>\n",
              "      <th>Temps utile</th>\n",
              "    </tr>\n",
              "  </thead>\n",
              "  <tbody>\n",
              "    <tr>\n",
              "      <th>0</th>\n",
              "      <td>12.743276</td>\n",
              "      <td>12.080601</td>\n",
              "      <td>12.080601</td>\n",
              "      <td>0.210278</td>\n",
              "    </tr>\n",
              "    <tr>\n",
              "      <th>1</th>\n",
              "      <td>12.933940</td>\n",
              "      <td>12.616348</td>\n",
              "      <td>12.616348</td>\n",
              "      <td>0.227124</td>\n",
              "    </tr>\n",
              "    <tr>\n",
              "      <th>2</th>\n",
              "      <td>11.791588</td>\n",
              "      <td>11.361981</td>\n",
              "      <td>11.361981</td>\n",
              "      <td>0.227083</td>\n",
              "    </tr>\n",
              "    <tr>\n",
              "      <th>3</th>\n",
              "      <td>13.449393</td>\n",
              "      <td>13.039580</td>\n",
              "      <td>13.039580</td>\n",
              "      <td>0.205346</td>\n",
              "    </tr>\n",
              "    <tr>\n",
              "      <th>4</th>\n",
              "      <td>13.828969</td>\n",
              "      <td>13.648769</td>\n",
              "      <td>13.648769</td>\n",
              "      <td>0.211765</td>\n",
              "    </tr>\n",
              "  </tbody>\n",
              "</table>\n",
              "</div>\n",
              "    <div class=\"colab-df-buttons\">\n",
              "\n",
              "  <div class=\"colab-df-container\">\n",
              "    <button class=\"colab-df-convert\" onclick=\"convertToInteractive('df-3a19688b-01ba-4e42-8f8a-b54ac021bf5e')\"\n",
              "            title=\"Convert this dataframe to an interactive table.\"\n",
              "            style=\"display:none;\">\n",
              "\n",
              "  <svg xmlns=\"http://www.w3.org/2000/svg\" height=\"24px\" viewBox=\"0 -960 960 960\">\n",
              "    <path d=\"M120-120v-720h720v720H120Zm60-500h600v-160H180v160Zm220 220h160v-160H400v160Zm0 220h160v-160H400v160ZM180-400h160v-160H180v160Zm440 0h160v-160H620v160ZM180-180h160v-160H180v160Zm440 0h160v-160H620v160Z\"/>\n",
              "  </svg>\n",
              "    </button>\n",
              "\n",
              "  <style>\n",
              "    .colab-df-container {\n",
              "      display:flex;\n",
              "      gap: 12px;\n",
              "    }\n",
              "\n",
              "    .colab-df-convert {\n",
              "      background-color: #E8F0FE;\n",
              "      border: none;\n",
              "      border-radius: 50%;\n",
              "      cursor: pointer;\n",
              "      display: none;\n",
              "      fill: #1967D2;\n",
              "      height: 32px;\n",
              "      padding: 0 0 0 0;\n",
              "      width: 32px;\n",
              "    }\n",
              "\n",
              "    .colab-df-convert:hover {\n",
              "      background-color: #E2EBFA;\n",
              "      box-shadow: 0px 1px 2px rgba(60, 64, 67, 0.3), 0px 1px 3px 1px rgba(60, 64, 67, 0.15);\n",
              "      fill: #174EA6;\n",
              "    }\n",
              "\n",
              "    .colab-df-buttons div {\n",
              "      margin-bottom: 4px;\n",
              "    }\n",
              "\n",
              "    [theme=dark] .colab-df-convert {\n",
              "      background-color: #3B4455;\n",
              "      fill: #D2E3FC;\n",
              "    }\n",
              "\n",
              "    [theme=dark] .colab-df-convert:hover {\n",
              "      background-color: #434B5C;\n",
              "      box-shadow: 0px 1px 3px 1px rgba(0, 0, 0, 0.15);\n",
              "      filter: drop-shadow(0px 1px 2px rgba(0, 0, 0, 0.3));\n",
              "      fill: #FFFFFF;\n",
              "    }\n",
              "  </style>\n",
              "\n",
              "    <script>\n",
              "      const buttonEl =\n",
              "        document.querySelector('#df-3a19688b-01ba-4e42-8f8a-b54ac021bf5e button.colab-df-convert');\n",
              "      buttonEl.style.display =\n",
              "        google.colab.kernel.accessAllowed ? 'block' : 'none';\n",
              "\n",
              "      async function convertToInteractive(key) {\n",
              "        const element = document.querySelector('#df-3a19688b-01ba-4e42-8f8a-b54ac021bf5e');\n",
              "        const dataTable =\n",
              "          await google.colab.kernel.invokeFunction('convertToInteractive',\n",
              "                                                    [key], {});\n",
              "        if (!dataTable) return;\n",
              "\n",
              "        const docLinkHtml = 'Like what you see? Visit the ' +\n",
              "          '<a target=\"_blank\" href=https://colab.research.google.com/notebooks/data_table.ipynb>data table notebook</a>'\n",
              "          + ' to learn more about interactive tables.';\n",
              "        element.innerHTML = '';\n",
              "        dataTable['output_type'] = 'display_data';\n",
              "        await google.colab.output.renderOutput(dataTable, element);\n",
              "        const docLink = document.createElement('div');\n",
              "        docLink.innerHTML = docLinkHtml;\n",
              "        element.appendChild(docLink);\n",
              "      }\n",
              "    </script>\n",
              "  </div>\n",
              "\n",
              "\n",
              "<div id=\"df-ea6c2901-cea0-4e44-8c91-915b90491c5b\">\n",
              "  <button class=\"colab-df-quickchart\" onclick=\"quickchart('df-ea6c2901-cea0-4e44-8c91-915b90491c5b')\"\n",
              "            title=\"Suggest charts\"\n",
              "            style=\"display:none;\">\n",
              "\n",
              "<svg xmlns=\"http://www.w3.org/2000/svg\" height=\"24px\"viewBox=\"0 0 24 24\"\n",
              "     width=\"24px\">\n",
              "    <g>\n",
              "        <path d=\"M19 3H5c-1.1 0-2 .9-2 2v14c0 1.1.9 2 2 2h14c1.1 0 2-.9 2-2V5c0-1.1-.9-2-2-2zM9 17H7v-7h2v7zm4 0h-2V7h2v10zm4 0h-2v-4h2v4z\"/>\n",
              "    </g>\n",
              "</svg>\n",
              "  </button>\n",
              "\n",
              "<style>\n",
              "  .colab-df-quickchart {\n",
              "      --bg-color: #E8F0FE;\n",
              "      --fill-color: #1967D2;\n",
              "      --hover-bg-color: #E2EBFA;\n",
              "      --hover-fill-color: #174EA6;\n",
              "      --disabled-fill-color: #AAA;\n",
              "      --disabled-bg-color: #DDD;\n",
              "  }\n",
              "\n",
              "  [theme=dark] .colab-df-quickchart {\n",
              "      --bg-color: #3B4455;\n",
              "      --fill-color: #D2E3FC;\n",
              "      --hover-bg-color: #434B5C;\n",
              "      --hover-fill-color: #FFFFFF;\n",
              "      --disabled-bg-color: #3B4455;\n",
              "      --disabled-fill-color: #666;\n",
              "  }\n",
              "\n",
              "  .colab-df-quickchart {\n",
              "    background-color: var(--bg-color);\n",
              "    border: none;\n",
              "    border-radius: 50%;\n",
              "    cursor: pointer;\n",
              "    display: none;\n",
              "    fill: var(--fill-color);\n",
              "    height: 32px;\n",
              "    padding: 0;\n",
              "    width: 32px;\n",
              "  }\n",
              "\n",
              "  .colab-df-quickchart:hover {\n",
              "    background-color: var(--hover-bg-color);\n",
              "    box-shadow: 0 1px 2px rgba(60, 64, 67, 0.3), 0 1px 3px 1px rgba(60, 64, 67, 0.15);\n",
              "    fill: var(--button-hover-fill-color);\n",
              "  }\n",
              "\n",
              "  .colab-df-quickchart-complete:disabled,\n",
              "  .colab-df-quickchart-complete:disabled:hover {\n",
              "    background-color: var(--disabled-bg-color);\n",
              "    fill: var(--disabled-fill-color);\n",
              "    box-shadow: none;\n",
              "  }\n",
              "\n",
              "  .colab-df-spinner {\n",
              "    border: 2px solid var(--fill-color);\n",
              "    border-color: transparent;\n",
              "    border-bottom-color: var(--fill-color);\n",
              "    animation:\n",
              "      spin 1s steps(1) infinite;\n",
              "  }\n",
              "\n",
              "  @keyframes spin {\n",
              "    0% {\n",
              "      border-color: transparent;\n",
              "      border-bottom-color: var(--fill-color);\n",
              "      border-left-color: var(--fill-color);\n",
              "    }\n",
              "    20% {\n",
              "      border-color: transparent;\n",
              "      border-left-color: var(--fill-color);\n",
              "      border-top-color: var(--fill-color);\n",
              "    }\n",
              "    30% {\n",
              "      border-color: transparent;\n",
              "      border-left-color: var(--fill-color);\n",
              "      border-top-color: var(--fill-color);\n",
              "      border-right-color: var(--fill-color);\n",
              "    }\n",
              "    40% {\n",
              "      border-color: transparent;\n",
              "      border-right-color: var(--fill-color);\n",
              "      border-top-color: var(--fill-color);\n",
              "    }\n",
              "    60% {\n",
              "      border-color: transparent;\n",
              "      border-right-color: var(--fill-color);\n",
              "    }\n",
              "    80% {\n",
              "      border-color: transparent;\n",
              "      border-right-color: var(--fill-color);\n",
              "      border-bottom-color: var(--fill-color);\n",
              "    }\n",
              "    90% {\n",
              "      border-color: transparent;\n",
              "      border-bottom-color: var(--fill-color);\n",
              "    }\n",
              "  }\n",
              "</style>\n",
              "\n",
              "  <script>\n",
              "    async function quickchart(key) {\n",
              "      const quickchartButtonEl =\n",
              "        document.querySelector('#' + key + ' button');\n",
              "      quickchartButtonEl.disabled = true;  // To prevent multiple clicks.\n",
              "      quickchartButtonEl.classList.add('colab-df-spinner');\n",
              "      try {\n",
              "        const charts = await google.colab.kernel.invokeFunction(\n",
              "            'suggestCharts', [key], {});\n",
              "      } catch (error) {\n",
              "        console.error('Error during call to suggestCharts:', error);\n",
              "      }\n",
              "      quickchartButtonEl.classList.remove('colab-df-spinner');\n",
              "      quickchartButtonEl.classList.add('colab-df-quickchart-complete');\n",
              "    }\n",
              "    (() => {\n",
              "      let quickchartButtonEl =\n",
              "        document.querySelector('#df-ea6c2901-cea0-4e44-8c91-915b90491c5b button');\n",
              "      quickchartButtonEl.style.display =\n",
              "        google.colab.kernel.accessAllowed ? 'block' : 'none';\n",
              "    })();\n",
              "  </script>\n",
              "</div>\n",
              "\n",
              "    </div>\n",
              "  </div>\n"
            ],
            "application/vnd.google.colaboratory.intrinsic+json": {
              "type": "dataframe",
              "variable_name": "X",
              "summary": "{\n  \"name\": \"X\",\n  \"rows\": 1000,\n  \"fields\": [\n    {\n      \"column\": \"Temps de fonctionnement\",\n      \"properties\": {\n        \"dtype\": \"number\",\n        \"std\": 0.9585965339817618,\n        \"min\": 11.102470151585813,\n        \"max\": 15.367751603731474,\n        \"num_unique_values\": 1000,\n        \"samples\": [\n          13.047364170007299,\n          14.502207772167358,\n          11.870617516367712\n        ],\n        \"semantic_type\": \"\",\n        \"description\": \"\"\n      }\n    },\n    {\n      \"column\": \"Temps requis\",\n      \"properties\": {\n        \"dtype\": \"number\",\n        \"std\": 0.9804919078467152,\n        \"min\": 10.626320387156209,\n        \"max\": 15.207078005379795,\n        \"num_unique_values\": 1000,\n        \"samples\": [\n          12.819221203845443,\n          14.009204171398398,\n          11.240467317263874\n        ],\n        \"semantic_type\": \"\",\n        \"description\": \"\"\n      }\n    },\n    {\n      \"column\": \"Temps net\",\n      \"properties\": {\n        \"dtype\": \"number\",\n        \"std\": 0.9804919078467152,\n        \"min\": 10.626320387156209,\n        \"max\": 15.207078005379795,\n        \"num_unique_values\": 1000,\n        \"samples\": [\n          12.819221203845443,\n          14.009204171398398,\n          11.240467317263874\n        ],\n        \"semantic_type\": \"\",\n        \"description\": \"\"\n      }\n    },\n    {\n      \"column\": \"Temps utile\",\n      \"properties\": {\n        \"dtype\": \"number\",\n        \"std\": 0.031086522129596027,\n        \"min\": 0.15677083333333333,\n        \"max\": 0.2931372549019608,\n        \"num_unique_values\": 858,\n        \"samples\": [\n          0.2483974358974359,\n          0.22243589743589742,\n          0.26794871794871794\n        ],\n        \"semantic_type\": \"\",\n        \"description\": \"\"\n      }\n    }\n  ]\n}"
            }
          },
          "metadata": {},
          "execution_count": 18
        }
      ],
      "source": [
        "X.head()"
      ]
    },
    {
      "cell_type": "code",
      "execution_count": 19,
      "metadata": {
        "colab": {
          "base_uri": "https://localhost:8080/",
          "height": 335
        },
        "id": "-XjxEMdawc1T",
        "outputId": "ae64b71a-3e24-425e-e0d2-9def410a1584"
      },
      "outputs": [
        {
          "output_type": "execute_result",
          "data": {
            "text/plain": [
              "count    1000.000000\n",
              "mean        1.647677\n",
              "std         0.258433\n",
              "min         1.025038\n",
              "25%         1.453348\n",
              "50%         1.636043\n",
              "75%         1.819287\n",
              "max         2.445386\n",
              "Name: TRS, dtype: float64"
            ],
            "text/html": [
              "<div>\n",
              "<style scoped>\n",
              "    .dataframe tbody tr th:only-of-type {\n",
              "        vertical-align: middle;\n",
              "    }\n",
              "\n",
              "    .dataframe tbody tr th {\n",
              "        vertical-align: top;\n",
              "    }\n",
              "\n",
              "    .dataframe thead th {\n",
              "        text-align: right;\n",
              "    }\n",
              "</style>\n",
              "<table border=\"1\" class=\"dataframe\">\n",
              "  <thead>\n",
              "    <tr style=\"text-align: right;\">\n",
              "      <th></th>\n",
              "      <th>TRS</th>\n",
              "    </tr>\n",
              "  </thead>\n",
              "  <tbody>\n",
              "    <tr>\n",
              "      <th>count</th>\n",
              "      <td>1000.000000</td>\n",
              "    </tr>\n",
              "    <tr>\n",
              "      <th>mean</th>\n",
              "      <td>1.647677</td>\n",
              "    </tr>\n",
              "    <tr>\n",
              "      <th>std</th>\n",
              "      <td>0.258433</td>\n",
              "    </tr>\n",
              "    <tr>\n",
              "      <th>min</th>\n",
              "      <td>1.025038</td>\n",
              "    </tr>\n",
              "    <tr>\n",
              "      <th>25%</th>\n",
              "      <td>1.453348</td>\n",
              "    </tr>\n",
              "    <tr>\n",
              "      <th>50%</th>\n",
              "      <td>1.636043</td>\n",
              "    </tr>\n",
              "    <tr>\n",
              "      <th>75%</th>\n",
              "      <td>1.819287</td>\n",
              "    </tr>\n",
              "    <tr>\n",
              "      <th>max</th>\n",
              "      <td>2.445386</td>\n",
              "    </tr>\n",
              "  </tbody>\n",
              "</table>\n",
              "</div><br><label><b>dtype:</b> float64</label>"
            ]
          },
          "metadata": {},
          "execution_count": 19
        }
      ],
      "source": [
        "y.describe()"
      ]
    },
    {
      "cell_type": "code",
      "execution_count": 20,
      "metadata": {
        "id": "2KHRxZblKsrp"
      },
      "outputs": [],
      "source": [
        "# Normalisation des données\n",
        "scaler = StandardScaler()\n",
        "X_scaled = scaler.fit_transform(X)"
      ]
    },
    {
      "cell_type": "code",
      "execution_count": 21,
      "metadata": {
        "id": "26NDITyzLGMm"
      },
      "outputs": [],
      "source": [
        "# Séparation des données en ensembles d'entraînement et de test\n",
        "X_train, X_test, y_train, y_test = train_test_split(X_scaled, y, test_size=0.2, random_state=42)\n"
      ]
    },
    {
      "cell_type": "markdown",
      "metadata": {
        "id": "BFSWZu72Dipy"
      },
      "source": [
        "## Étape 2 : Application du modèle ANN"
      ]
    },
    {
      "cell_type": "markdown",
      "source": [
        "### 1.Regression Model"
      ],
      "metadata": {
        "id": "debWIetwEcON"
      }
    },
    {
      "cell_type": "code",
      "execution_count": 22,
      "metadata": {
        "id": "VbhmpXnlaR72"
      },
      "outputs": [],
      "source": [
        "def create_reg_model(optimizer, activation, loss):\n",
        "    model = Sequential()\n",
        "    model.add(Dense(64, activation=activation, input_dim=X_train.shape[1]))\n",
        "    model.add(Dense(32, activation=activation))\n",
        "    model.add(Dense(1))\n",
        "    model.compile(optimizer=optimizer, loss=loss)\n",
        "    return model"
      ]
    },
    {
      "cell_type": "code",
      "execution_count": 23,
      "metadata": {
        "id": "a3bR0mdtaUM0"
      },
      "outputs": [],
      "source": [
        "# Function to train the model\n",
        "def train_model(model, X_train, y_train, epochs=100, batch_size=32, verbose=0):\n",
        "    model.fit(X_train, y_train, epochs=epochs, batch_size=batch_size, verbose=verbose)\n",
        "    return model"
      ]
    },
    {
      "cell_type": "code",
      "execution_count": 24,
      "metadata": {
        "id": "EWarra8gaWtM"
      },
      "outputs": [],
      "source": [
        "# Function to evaluate the model\n",
        "def evaluate_model(model, X_test, y_test):\n",
        "    y_pred = model.predict(X_test)\n",
        "    mse = mean_squared_error(y_test, y_pred)\n",
        "    mae = mean_absolute_error(y_test, y_pred)\n",
        "    r2 = r2_score(y_test, y_pred)\n",
        "    return mse, mae, r2"
      ]
    },
    {
      "cell_type": "code",
      "execution_count": 25,
      "metadata": {
        "id": "upiyZTqFguhY"
      },
      "outputs": [],
      "source": [
        "def compare_regression_models(X_train, y_train, X_test, y_test, combinations):\n",
        "    results = []\n",
        "    for i, params in enumerate(combinations):\n",
        "        model = create_reg_model(params['optimizer'], params['activation'], params['loss'])\n",
        "        train_model(model, X_train, y_train)\n",
        "        mse, mae , r2 = evaluate_model(model, X_test, y_test)\n",
        "        results.append({\n",
        "            'Model': i+1,\n",
        "            'Optimizer': params['optimizer'],\n",
        "            'Activation': params['activation'],\n",
        "            'Loss': params['loss'],\n",
        "            'MSE': mse,\n",
        "            'MAE': mae,\n",
        "            'R2_Score': r2\n",
        "        })\n",
        "\n",
        "    # Convert results to a DataFrame\n",
        "    df_results = pd.DataFrame(results)\n",
        "\n",
        "    # Plot the results\n",
        "    df_results.plot(x='Model', y=['MSE', 'MAE'], kind='bar', figsize=(10, 6))\n",
        "    plt.title('Regression Model Comparison')\n",
        "    plt.ylabel('Error')\n",
        "    plt.xlabel('Model Number')\n",
        "    plt.xticks(rotation=0)\n",
        "    plt.show()\n",
        "\n",
        "    df_results.plot(x='Model', y=[ 'R2_Score'], kind='bar', figsize=(10, 6))\n",
        "    plt.title('Regression Model Comparison')\n",
        "    plt.ylabel('Error')\n",
        "    plt.xlabel('Model Number')\n",
        "    plt.xticks(rotation=0)\n",
        "    plt.show()\n",
        "\n",
        "    return df_results"
      ]
    },
    {
      "cell_type": "code",
      "execution_count": 26,
      "metadata": {
        "id": "zOnCk8rJaxLm"
      },
      "outputs": [],
      "source": [
        "# List of different parameter combinations\n",
        "combinations = [\n",
        "    {'optimizer': 'adam', 'activation': 'relu', 'loss': 'mean_squared_error'},\n",
        "    {'optimizer': 'sgd', 'activation': 'linear', 'loss': 'mean_absolute_error'},\n",
        "    {'optimizer': 'rmsprop', 'activation': 'tanh', 'loss': 'mean_squared_error'},\n",
        "    {'optimizer': 'adam', 'activation': 'sigmoid', 'loss': 'mean_absolute_error'},\n",
        "    {'optimizer': 'adagrad', 'activation': 'tanh', 'loss': 'mean_absolute_error'},\n",
        "    {'optimizer': 'sgd', 'activation': 'sigmoid', 'loss': 'mean_squared_error'}\n",
        "]"
      ]
    },
    {
      "cell_type": "code",
      "execution_count": 27,
      "metadata": {
        "colab": {
          "base_uri": "https://localhost:8080/",
          "height": 1000
        },
        "id": "mZodoi89a0Vm",
        "outputId": "6ef6ce2e-8d73-44dc-d609-c7f01c5b8522"
      },
      "outputs": [
        {
          "output_type": "stream",
          "name": "stderr",
          "text": [
            "/usr/local/lib/python3.10/dist-packages/keras/src/layers/core/dense.py:87: UserWarning: Do not pass an `input_shape`/`input_dim` argument to a layer. When using Sequential models, prefer using an `Input(shape)` object as the first layer in the model instead.\n",
            "  super().__init__(activity_regularizer=activity_regularizer, **kwargs)\n"
          ]
        },
        {
          "output_type": "stream",
          "name": "stdout",
          "text": [
            "\u001b[1m7/7\u001b[0m \u001b[32m━━━━━━━━━━━━━━━━━━━━\u001b[0m\u001b[37m\u001b[0m \u001b[1m0s\u001b[0m 30ms/step\n"
          ]
        },
        {
          "output_type": "stream",
          "name": "stderr",
          "text": [
            "/usr/local/lib/python3.10/dist-packages/keras/src/layers/core/dense.py:87: UserWarning: Do not pass an `input_shape`/`input_dim` argument to a layer. When using Sequential models, prefer using an `Input(shape)` object as the first layer in the model instead.\n",
            "  super().__init__(activity_regularizer=activity_regularizer, **kwargs)\n"
          ]
        },
        {
          "output_type": "stream",
          "name": "stdout",
          "text": [
            "\u001b[1m7/7\u001b[0m \u001b[32m━━━━━━━━━━━━━━━━━━━━\u001b[0m\u001b[37m\u001b[0m \u001b[1m0s\u001b[0m 7ms/step \n"
          ]
        },
        {
          "output_type": "stream",
          "name": "stderr",
          "text": [
            "/usr/local/lib/python3.10/dist-packages/keras/src/layers/core/dense.py:87: UserWarning: Do not pass an `input_shape`/`input_dim` argument to a layer. When using Sequential models, prefer using an `Input(shape)` object as the first layer in the model instead.\n",
            "  super().__init__(activity_regularizer=activity_regularizer, **kwargs)\n",
            "WARNING:tensorflow:5 out of the last 15 calls to <function TensorFlowTrainer.make_predict_function.<locals>.one_step_on_data_distributed at 0x784a84ce1d80> triggered tf.function retracing. Tracing is expensive and the excessive number of tracings could be due to (1) creating @tf.function repeatedly in a loop, (2) passing tensors with different shapes, (3) passing Python objects instead of tensors. For (1), please define your @tf.function outside of the loop. For (2), @tf.function has reduce_retracing=True option that can avoid unnecessary retracing. For (3), please refer to https://www.tensorflow.org/guide/function#controlling_retracing and https://www.tensorflow.org/api_docs/python/tf/function for  more details.\n"
          ]
        },
        {
          "output_type": "stream",
          "name": "stdout",
          "text": [
            "\u001b[1m7/7\u001b[0m \u001b[32m━━━━━━━━━━━━━━━━━━━━\u001b[0m\u001b[37m\u001b[0m \u001b[1m0s\u001b[0m 7ms/step \n"
          ]
        },
        {
          "output_type": "stream",
          "name": "stderr",
          "text": [
            "/usr/local/lib/python3.10/dist-packages/keras/src/layers/core/dense.py:87: UserWarning: Do not pass an `input_shape`/`input_dim` argument to a layer. When using Sequential models, prefer using an `Input(shape)` object as the first layer in the model instead.\n",
            "  super().__init__(activity_regularizer=activity_regularizer, **kwargs)\n",
            "WARNING:tensorflow:5 out of the last 15 calls to <function TensorFlowTrainer.make_predict_function.<locals>.one_step_on_data_distributed at 0x784a84ce0940> triggered tf.function retracing. Tracing is expensive and the excessive number of tracings could be due to (1) creating @tf.function repeatedly in a loop, (2) passing tensors with different shapes, (3) passing Python objects instead of tensors. For (1), please define your @tf.function outside of the loop. For (2), @tf.function has reduce_retracing=True option that can avoid unnecessary retracing. For (3), please refer to https://www.tensorflow.org/guide/function#controlling_retracing and https://www.tensorflow.org/api_docs/python/tf/function for  more details.\n"
          ]
        },
        {
          "output_type": "stream",
          "name": "stdout",
          "text": [
            "\u001b[1m7/7\u001b[0m \u001b[32m━━━━━━━━━━━━━━━━━━━━\u001b[0m\u001b[37m\u001b[0m \u001b[1m0s\u001b[0m 8ms/step \n"
          ]
        },
        {
          "output_type": "stream",
          "name": "stderr",
          "text": [
            "/usr/local/lib/python3.10/dist-packages/keras/src/layers/core/dense.py:87: UserWarning: Do not pass an `input_shape`/`input_dim` argument to a layer. When using Sequential models, prefer using an `Input(shape)` object as the first layer in the model instead.\n",
            "  super().__init__(activity_regularizer=activity_regularizer, **kwargs)\n"
          ]
        },
        {
          "output_type": "stream",
          "name": "stdout",
          "text": [
            "\u001b[1m7/7\u001b[0m \u001b[32m━━━━━━━━━━━━━━━━━━━━\u001b[0m\u001b[37m\u001b[0m \u001b[1m0s\u001b[0m 7ms/step \n"
          ]
        },
        {
          "output_type": "stream",
          "name": "stderr",
          "text": [
            "/usr/local/lib/python3.10/dist-packages/keras/src/layers/core/dense.py:87: UserWarning: Do not pass an `input_shape`/`input_dim` argument to a layer. When using Sequential models, prefer using an `Input(shape)` object as the first layer in the model instead.\n",
            "  super().__init__(activity_regularizer=activity_regularizer, **kwargs)\n"
          ]
        },
        {
          "output_type": "stream",
          "name": "stdout",
          "text": [
            "\u001b[1m7/7\u001b[0m \u001b[32m━━━━━━━━━━━━━━━━━━━━\u001b[0m\u001b[37m\u001b[0m \u001b[1m0s\u001b[0m 8ms/step \n"
          ]
        },
        {
          "output_type": "display_data",
          "data": {
            "text/plain": [
              "<Figure size 1000x600 with 1 Axes>"
            ],
            "image/png": "[encoded data removed]"
          },
          "metadata": {}
        },
        {
          "output_type": "display_data",
          "data": {
            "text/plain": [
              "<Figure size 1000x600 with 1 Axes>"
            ],
            "image/png": "[encoded data removed]"
          },
          "metadata": {}
        }
      ],
      "source": [
        "# Compare the models and print the results\n",
        "results = compare_regression_models(X_train, y_train, X_test, y_test, combinations)"
      ]
    },
    {
      "cell_type": "code",
      "source": [
        "# Identifier le meilleur modèle\n",
        "best_model_index = results['R2_Score'].idxmax()\n",
        "best_model_params = results.loc[best_model_index]\n",
        "\n",
        "print(\"Meilleur modèle :\")\n",
        "print(best_model_params)\n",
        "\n",
        "# Recréer et entraîner le meilleur modèle\n",
        "best_model = create_reg_model(\n",
        "    best_model_params['Optimizer'],\n",
        "    best_model_params['Activation'],\n",
        "    best_model_params['Loss']\n",
        ")\n",
        "train_model(best_model, X_train, y_train)\n",
        "\n",
        "# Faire des prédictions avec le meilleur modèle\n",
        "y_pred = best_model.predict(X_test)"
      ],
      "metadata": {
        "colab": {
          "base_uri": "https://localhost:8080/"
        },
        "id": "dvgvalvcGDNp",
        "outputId": "44f51f9e-29f6-4494-ac17-efcd7e773ecb"
      },
      "execution_count": 40,
      "outputs": [
        {
          "output_type": "stream",
          "name": "stdout",
          "text": [
            "Meilleur modèle :\n",
            "Model                           4\n",
            "Optimizer                    adam\n",
            "Activation                sigmoid\n",
            "Loss          mean_absolute_error\n",
            "MSE                      0.000059\n",
            "MAE                      0.005126\n",
            "R2_Score                 0.999172\n",
            "Name: 3, dtype: object\n"
          ]
        },
        {
          "output_type": "stream",
          "name": "stderr",
          "text": [
            "/usr/local/lib/python3.10/dist-packages/keras/src/layers/core/dense.py:87: UserWarning: Do not pass an `input_shape`/`input_dim` argument to a layer. When using Sequential models, prefer using an `Input(shape)` object as the first layer in the model instead.\n",
            "  super().__init__(activity_regularizer=activity_regularizer, **kwargs)\n"
          ]
        },
        {
          "output_type": "stream",
          "name": "stdout",
          "text": [
            "\u001b[1m7/7\u001b[0m \u001b[32m━━━━━━━━━━━━━━━━━━━━\u001b[0m\u001b[37m\u001b[0m \u001b[1m0s\u001b[0m 10ms/step\n"
          ]
        }
      ]
    },
    {
      "cell_type": "code",
      "source": [
        "# Remodeler les données si nécessaire\n",
        "y_pred = y_pred.reshape(-1)  # ou y_pred.flatten()\n",
        "y_test_reshaped = y_test.values.reshape(-1) if hasattr(y_test, 'values') else y_test.reshape(-1)\n"
      ],
      "metadata": {
        "id": "eUkm74H5dcMa"
      },
      "execution_count": 43,
      "outputs": []
    },
    {
      "cell_type": "code",
      "source": [
        "# Calculer les métriques de performance\n",
        "r2 = r2_score(y_test, y_pred)\n",
        "rmse = np.sqrt(mean_squared_error(y_test, y_pred))\n",
        "mae = mean_absolute_error(y_test, y_pred)\n",
        "\n",
        "print(\"\\nMétriques de performance sur l'ensemble de test:\")\n",
        "print(f\"R² Score: {r2:.4f}\")\n",
        "print(f\"RMSE: {rmse:.4f}\")\n",
        "print(f\"MAE: {mae:.4f}\")\n"
      ],
      "metadata": {
        "colab": {
          "base_uri": "https://localhost:8080/"
        },
        "id": "UfZwf2ylcyjJ",
        "outputId": "a1dc2360-bf67-4076-c5b3-965810630fc3"
      },
      "execution_count": 44,
      "outputs": [
        {
          "output_type": "stream",
          "name": "stdout",
          "text": [
            "\n",
            "Métriques de performance sur l'ensemble de test:\n",
            "R² Score: 0.7734\n",
            "RMSE: 0.3332\n",
            "MAE: 0.2483\n"
          ]
        }
      ]
    },
    {
      "cell_type": "code",
      "source": [
        "# Visualiser les prédictions vs valeurs réelles\n",
        "plt.figure(figsize=(10, 6))\n",
        "plt.scatter(y_test, y_pred, alpha=0.5)\n",
        "plt.plot([y_test.min(), y_test.max()], [y_test.min(), y_test.max()], 'r--', lw=2)\n",
        "plt.xlabel('Valeurs réelles')\n",
        "plt.ylabel('Prédictions')\n",
        "plt.title('Prédictions vs Valeurs réelles')\n",
        "plt.tight_layout()\n",
        "plt.show()\n",
        "\n",
        "# Analyse des résidus\n",
        "residus = y_test - y_pred\n",
        "plt.figure(figsize=(10, 6))\n",
        "plt.scatter(y_pred, residus, alpha=0.5)\n",
        "plt.axhline(y=0, color='r', linestyle='--')\n",
        "plt.xlabel('Prédictions')\n",
        "plt.ylabel('Résidus')\n",
        "plt.title('Graphique des résidus')\n",
        "plt.tight_layout()\n",
        "plt.show()\n"
      ],
      "metadata": {
        "colab": {
          "base_uri": "https://localhost:8080/",
          "height": 1000
        },
        "id": "GrSU1_JOc17a",
        "outputId": "50c7ad4e-809b-4bb4-b9bc-c15e27517efb"
      },
      "execution_count": 45,
      "outputs": [
        {
          "output_type": "display_data",
          "data": {
            "text/plain": [
              "<Figure size 1000x600 with 1 Axes>"
            ],
            "image/png": "[encoded data removed]"
          },
          "metadata": {}
        },
        {
          "output_type": "display_data",
          "data": {
            "text/plain": [
              "<Figure size 1000x600 with 1 Axes>"
            ],
            "image/png": "[encoded data removed]"
          },
          "metadata": {}
        }
      ]
    },
    {
      "cell_type": "code",
      "source": [
        "# Identifier la machine avec les meilleures prédictions\n",
        "machine_errors = []\n",
        "for i in range(len(y_test)):\n",
        "    error = abs(y_test[i] - y_pred[i])\n",
        "    machine_errors.append((i, error))\n",
        "\n",
        "# Trier les machines par erreur (du plus petit au plus grand)\n",
        "machine_errors.sort(key=lambda x: x[1])\n",
        "\n",
        "print(\"\\nAnalyse des erreurs par machine:\")\n",
        "for machine_id, error in machine_errors[:5]:  # 5 meilleures machines\n",
        "    print(f\"Machine {machine_id}: Erreur absolue = {error:.4f}\")"
      ],
      "metadata": {
        "colab": {
          "base_uri": "https://localhost:8080/"
        },
        "id": "LgEqlC8Lc7CA",
        "outputId": "b0836feb-1e46-451a-806c-f94b1c3320df"
      },
      "execution_count": 46,
      "outputs": [
        {
          "output_type": "stream",
          "name": "stdout",
          "text": [
            "\n",
            "Analyse des erreurs par machine:\n",
            "Machine 144: Erreur absolue = 0.0016\n",
            "Machine 149: Erreur absolue = 0.0026\n",
            "Machine 42: Erreur absolue = 0.0058\n",
            "Machine 66: Erreur absolue = 0.0064\n",
            "Machine 119: Erreur absolue = 0.0099\n"
          ]
        }
      ]
    },
    {
      "cell_type": "markdown",
      "source": [
        "### 2.Classification Model"
      ],
      "metadata": {
        "id": "FRmmIQsdFOZa"
      }
    },
    {
      "cell_type": "code",
      "execution_count": 29,
      "metadata": {
        "id": "NjrK1-o0Mhvm"
      },
      "outputs": [],
      "source": [
        "# Define bins and labels for TRS categories\n",
        "bins = [0, 1.453, 1.819, float('inf')]\n",
        "labels = ['Faible', 'Moyenne', 'Élevée']\n",
        "\n",
        "# Création de la colonne de catégorie basée sur le TRS\n",
        "df['trs_category'] = pd.cut(df['TRS'], bins=bins, labels=labels, include_lowest=True)\n",
        "\n"
      ]
    },
    {
      "cell_type": "code",
      "execution_count": 30,
      "metadata": {
        "colab": {
          "base_uri": "https://localhost:8080/"
        },
        "id": "ZtO_5qU35m-5",
        "outputId": "df94721b-15af-445d-e55d-2e860bbdcf22"
      },
      "outputs": [
        {
          "output_type": "stream",
          "name": "stdout",
          "text": [
            "Distribution des catégories de TRS :\n",
            "trs_category\n",
            "Faible     250\n",
            "Moyenne    500\n",
            "Élevée     250\n",
            "Name: count, dtype: int64\n"
          ]
        }
      ],
      "source": [
        "# Affichage de la distribution des catégories\n",
        "distribution = df['trs_category'].value_counts().sort_index()\n",
        "print(\"Distribution des catégories de TRS :\")\n",
        "print(distribution)"
      ]
    },
    {
      "cell_type": "code",
      "execution_count": 31,
      "metadata": {
        "id": "ywbIm0RG6hn3"
      },
      "outputs": [],
      "source": [
        "# Prepare features (X) and target (y)\n",
        "X = df.drop(['TRS', 'trs_category'], axis=1)\n",
        "y = df['trs_category']"
      ]
    },
    {
      "cell_type": "code",
      "execution_count": 32,
      "metadata": {
        "id": "0fH01ybW7gNB"
      },
      "outputs": [],
      "source": [
        "# Identify numeric and categorical columns\n",
        "numeric_features = X.select_dtypes(include=['int64', 'float64']).columns\n",
        "categorical_features = X.select_dtypes(include=['object']).columns\n",
        "\n",
        "# Create preprocessor\n",
        "preprocessor = ColumnTransformer(\n",
        "    transformers=[\n",
        "        ('num', 'passthrough', numeric_features),\n",
        "        ('cat', OneHotEncoder( handle_unknown='ignore'), categorical_features)\n",
        "    ])\n",
        "\n",
        "# Preprocess the data\n",
        "X_preprocessed = preprocessor.fit_transform(X)\n"
      ]
    },
    {
      "cell_type": "code",
      "execution_count": 33,
      "metadata": {
        "id": "0k9bER8JMlK2"
      },
      "outputs": [],
      "source": [
        "# Encode the target variable\n",
        "le = LabelEncoder()\n",
        "y = le.fit_transform(y)\n",
        "\n",
        "# Split the data\n",
        "X_train, X_test, y_train, y_test = train_test_split(X_preprocessed, y, test_size=0.2, random_state=42)"
      ]
    },
    {
      "cell_type": "code",
      "execution_count": 34,
      "metadata": {
        "id": "LAElLSYnePgw"
      },
      "outputs": [],
      "source": [
        "# Function to create a classification model\n",
        "def create_classification_model(optimizer, activation, loss):\n",
        "    model = Sequential()\n",
        "    model.add(Dense(64, activation=activation, input_dim=X_train.shape[1]))\n",
        "    model.add(Dense(32, activation=activation))\n",
        "    model.add(Dense(3, activation='softmax'))  # 3 output neurons for 3 classes\n",
        "    model.compile(optimizer=optimizer, loss=loss, metrics=['accuracy'])\n",
        "    return model"
      ]
    },
    {
      "cell_type": "code",
      "execution_count": 35,
      "metadata": {
        "id": "lsHLyu4weSXV"
      },
      "outputs": [],
      "source": [
        "# Function to train the classification model\n",
        "def train_classification_model(model, X_train, y_train, epochs=100, batch_size=32, verbose=0):\n",
        "    model.fit(X_train, y_train, epochs=epochs, batch_size=batch_size, verbose=verbose)\n",
        "    return model"
      ]
    },
    {
      "cell_type": "code",
      "execution_count": 36,
      "metadata": {
        "id": "XqPwnisheYAk"
      },
      "outputs": [],
      "source": [
        "# Function to evaluate classification model\n",
        "def evaluate_classification_model(model, X_test, y_test):\n",
        "    y_pred = model.predict(X_test)\n",
        "    y_pred_classes = np.argmax(y_pred, axis=1)\n",
        "    accuracy = accuracy_score(y_test, y_pred_classes)\n",
        "    precision = precision_score(y_test, y_pred_classes, average='weighted')\n",
        "    recall = recall_score(y_test, y_pred_classes, average='weighted')\n",
        "    f1 = f1_score(y_test, y_pred_classes, average='weighted')\n",
        "    return accuracy, precision, recall, f1\n"
      ]
    },
    {
      "cell_type": "code",
      "execution_count": 37,
      "metadata": {
        "id": "c9mY51XueaBb"
      },
      "outputs": [],
      "source": [
        "# Function to compare multiple classification models\n",
        "def compare_classification_models(X_train, y_train, X_test, y_test, combinations):\n",
        "    results = []\n",
        "    for i, params in enumerate(combinations):\n",
        "        model = create_classification_model(params['optimizer'], params['activation'], params['loss'])\n",
        "        train_classification_model(model, X_train, y_train)\n",
        "        accuracy, precision, recall, f1 = evaluate_classification_model(model, X_test, y_test)\n",
        "        results.append({\n",
        "            'Model': i+1,\n",
        "            'Optimizer': params['optimizer'],\n",
        "            'Activation': params['activation'],\n",
        "            'Loss': params['loss'],\n",
        "            'Accuracy': accuracy,\n",
        "            'Precision': precision,\n",
        "            'Recall': recall,\n",
        "            'F1-Score': f1\n",
        "        })\n",
        "\n",
        "    # Convert results to a DataFrame\n",
        "    df_results = pd.DataFrame(results)\n",
        "\n",
        "    # Plot the results\n",
        "    df_results.plot(x='Model', y=['Accuracy', 'Precision', 'Recall', 'F1-Score'], kind='bar', figsize=(10, 6))\n",
        "    plt.title('Classification Model Comparison')\n",
        "    plt.ylabel('Metrics')\n",
        "    plt.xlabel('Model Number')\n",
        "    plt.xticks(rotation=0)\n",
        "    plt.show()\n",
        "\n",
        "    return df_results"
      ]
    },
    {
      "cell_type": "code",
      "execution_count": 38,
      "metadata": {
        "id": "Et15sQG0ehuU"
      },
      "outputs": [],
      "source": [
        "# List of different parameter combinations for classification models\n",
        "combinations_classification = [\n",
        "    {'optimizer': 'adam', 'activation': 'relu', 'loss': 'sparse_categorical_crossentropy'},\n",
        "    {'optimizer': 'sgd', 'activation': 'tanh', 'loss': 'sparse_categorical_crossentropy'},\n",
        "    {'optimizer': 'rmsprop', 'activation': 'relu', 'loss': 'sparse_categorical_crossentropy'},\n",
        "    {'optimizer': 'adam', 'activation': 'sigmoid', 'loss': 'sparse_categorical_crossentropy'},\n",
        "    {'optimizer': 'adamax', 'activation': 'tanh', 'loss': 'sparse_categorical_crossentropy'},\n",
        "    {'optimizer': 'adagrad', 'activation': 'relu', 'loss': 'sparse_categorical_crossentropy'},\n",
        "]"
      ]
    },
    {
      "cell_type": "code",
      "execution_count": 39,
      "metadata": {
        "colab": {
          "base_uri": "https://localhost:8080/",
          "height": 1000
        },
        "id": "bYIxrd4KejyE",
        "outputId": "b5945b1d-d456-4589-afe6-719d148cfdae"
      },
      "outputs": [
        {
          "output_type": "stream",
          "name": "stderr",
          "text": [
            "/usr/local/lib/python3.10/dist-packages/keras/src/layers/core/dense.py:87: UserWarning: Do not pass an `input_shape`/`input_dim` argument to a layer. When using Sequential models, prefer using an `Input(shape)` object as the first layer in the model instead.\n",
            "  super().__init__(activity_regularizer=activity_regularizer, **kwargs)\n"
          ]
        },
        {
          "output_type": "stream",
          "name": "stdout",
          "text": [
            "\u001b[1m7/7\u001b[0m \u001b[32m━━━━━━━━━━━━━━━━━━━━\u001b[0m\u001b[37m\u001b[0m \u001b[1m0s\u001b[0m 8ms/step \n"
          ]
        },
        {
          "output_type": "stream",
          "name": "stderr",
          "text": [
            "/usr/local/lib/python3.10/dist-packages/keras/src/layers/core/dense.py:87: UserWarning: Do not pass an `input_shape`/`input_dim` argument to a layer. When using Sequential models, prefer using an `Input(shape)` object as the first layer in the model instead.\n",
            "  super().__init__(activity_regularizer=activity_regularizer, **kwargs)\n"
          ]
        },
        {
          "output_type": "stream",
          "name": "stdout",
          "text": [
            "\u001b[1m7/7\u001b[0m \u001b[32m━━━━━━━━━━━━━━━━━━━━\u001b[0m\u001b[37m\u001b[0m \u001b[1m0s\u001b[0m 8ms/step \n"
          ]
        },
        {
          "output_type": "stream",
          "name": "stderr",
          "text": [
            "/usr/local/lib/python3.10/dist-packages/sklearn/metrics/_classification.py:1531: UndefinedMetricWarning: Precision is ill-defined and being set to 0.0 in labels with no predicted samples. Use `zero_division` parameter to control this behavior.\n",
            "  _warn_prf(average, modifier, f\"{metric.capitalize()} is\", len(result))\n",
            "/usr/local/lib/python3.10/dist-packages/keras/src/layers/core/dense.py:87: UserWarning: Do not pass an `input_shape`/`input_dim` argument to a layer. When using Sequential models, prefer using an `Input(shape)` object as the first layer in the model instead.\n",
            "  super().__init__(activity_regularizer=activity_regularizer, **kwargs)\n"
          ]
        },
        {
          "output_type": "stream",
          "name": "stdout",
          "text": [
            "\u001b[1m7/7\u001b[0m \u001b[32m━━━━━━━━━━━━━━━━━━━━\u001b[0m\u001b[37m\u001b[0m \u001b[1m0s\u001b[0m 10ms/step\n"
          ]
        },
        {
          "output_type": "stream",
          "name": "stderr",
          "text": [
            "/usr/local/lib/python3.10/dist-packages/keras/src/layers/core/dense.py:87: UserWarning: Do not pass an `input_shape`/`input_dim` argument to a layer. When using Sequential models, prefer using an `Input(shape)` object as the first layer in the model instead.\n",
            "  super().__init__(activity_regularizer=activity_regularizer, **kwargs)\n"
          ]
        },
        {
          "output_type": "stream",
          "name": "stdout",
          "text": [
            "\u001b[1m7/7\u001b[0m \u001b[32m━━━━━━━━━━━━━━━━━━━━\u001b[0m\u001b[37m\u001b[0m \u001b[1m0s\u001b[0m 12ms/step\n"
          ]
        },
        {
          "output_type": "stream",
          "name": "stderr",
          "text": [
            "/usr/local/lib/python3.10/dist-packages/keras/src/layers/core/dense.py:87: UserWarning: Do not pass an `input_shape`/`input_dim` argument to a layer. When using Sequential models, prefer using an `Input(shape)` object as the first layer in the model instead.\n",
            "  super().__init__(activity_regularizer=activity_regularizer, **kwargs)\n"
          ]
        },
        {
          "output_type": "stream",
          "name": "stdout",
          "text": [
            "\u001b[1m7/7\u001b[0m \u001b[32m━━━━━━━━━━━━━━━━━━━━\u001b[0m\u001b[37m\u001b[0m \u001b[1m0s\u001b[0m 9ms/step\n"
          ]
        },
        {
          "output_type": "stream",
          "name": "stderr",
          "text": [
            "/usr/local/lib/python3.10/dist-packages/keras/src/layers/core/dense.py:87: UserWarning: Do not pass an `input_shape`/`input_dim` argument to a layer. When using Sequential models, prefer using an `Input(shape)` object as the first layer in the model instead.\n",
            "  super().__init__(activity_regularizer=activity_regularizer, **kwargs)\n"
          ]
        },
        {
          "output_type": "stream",
          "name": "stdout",
          "text": [
            "\u001b[1m7/7\u001b[0m \u001b[32m━━━━━━━━━━━━━━━━━━━━\u001b[0m\u001b[37m\u001b[0m \u001b[1m0s\u001b[0m 7ms/step \n"
          ]
        },
        {
          "output_type": "display_data",
          "data": {
            "text/plain": [
              "<Figure size 1000x600 with 1 Axes>"
            ],
            "image/png": "[encoded data removed]"
          },
          "metadata": {}
        },
        {
          "output_type": "stream",
          "name": "stdout",
          "text": [
            "   Model Optimizer Activation                             Loss  Accuracy  \\\n",
            "0      1      adam       relu  sparse_categorical_crossentropy     0.840   \n",
            "1      2       sgd       tanh  sparse_categorical_crossentropy     0.510   \n",
            "2      3   rmsprop       relu  sparse_categorical_crossentropy     0.695   \n",
            "3      4      adam    sigmoid  sparse_categorical_crossentropy     0.865   \n",
            "4      5    adamax       tanh  sparse_categorical_crossentropy     0.790   \n",
            "5      6   adagrad       relu  sparse_categorical_crossentropy     0.765   \n",
            "\n",
            "   Precision  Recall  F1-Score  \n",
            "0   0.860180   0.840  0.837258  \n",
            "1   0.260100   0.510  0.344503  \n",
            "2   0.765991   0.695  0.695391  \n",
            "3   0.878244   0.865  0.863487  \n",
            "4   0.825905   0.790  0.785784  \n",
            "5   0.802590   0.765  0.753158  \n"
          ]
        }
      ],
      "source": [
        "# Run the comparison\n",
        "results_classification = compare_classification_models(X_train, y_train, X_test, y_test, combinations_classification)\n",
        "print(results_classification)"
      ]
    },
    {
      "cell_type": "markdown",
      "metadata": {
        "id": "4VH0axvJDipy"
      },
      "source": [
        "## Étape 3 : Analyse de la meilleure machine"
      ]
    },
    {
      "cell_type": "code",
      "execution_count": 39,
      "metadata": {
        "id": "VBSSoiVMufMI"
      },
      "outputs": [],
      "source": []
    }
  ],
  "metadata": {
    "colab": {
      "provenance": []
    },
    "kernelspec": {
      "display_name": "Python 3",
      "language": "python",
      "name": "python3"
    },
    "language_info": {
      "codemirror_mode": {
        "name": "ipython",
        "version": 3
      },
      "file_extension": ".py",
      "mimetype": "text/x-python",
      "name": "python",
      "nbconvert_exporter": "python",
      "pygments_lexer": "ipython3",
      "version": "3.12.6"
    }
  },
  "nbformat": 4,
  "nbformat_minor": 0
}